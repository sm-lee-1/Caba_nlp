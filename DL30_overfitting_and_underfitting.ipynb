{
  "nbformat": 4,
  "nbformat_minor": 0,
  "metadata": {
    "colab": {
      "name": "DL30_overfitting-and-underfitting.ipynb",
      "provenance": [],
      "collapsed_sections": [],
      "authorship_tag": "ABX9TyNCL7n9Z24GfQrQ80rGex+D",
      "include_colab_link": true
    },
    "kernelspec": {
      "name": "python3",
      "display_name": "Python 3"
    },
    "accelerator": "GPU"
  },
  "cells": [
    {
      "cell_type": "markdown",
      "metadata": {
        "id": "view-in-github",
        "colab_type": "text"
      },
      "source": [
        "<a href=\"https://colab.research.google.com/github/sm-lee-1/Caba_nlp/blob/main/DL30_overfitting_and_underfitting.ipynb\" target=\"_parent\"><img src=\"https://colab.research.google.com/assets/colab-badge.svg\" alt=\"Open In Colab\"/></a>"
      ]
    },
    {
      "cell_type": "markdown",
      "metadata": {
        "id": "NiddNocziMxN"
      },
      "source": [
        "#### 과대적합과 과소적합  \r\n",
        "머신 러닝의 근본적인 이슈는 최적화와 일반화 사이의 줄다리기이다.  \r\n",
        "- 최적화 : 훈련데이터에서 최고의 성능을 얻으려고 모델을 조정(학습)\r\n",
        "- 일반화 : 훈련된 모델이 본적이 없는 데이터에서 얼마나 잘 수행되는지를 의미\r\n",
        "- 과대적합 : 과다한 변수, 데이터 부족\r\n",
        "- 과소적합 : 과소한 특성,\r\n",
        "- 과대적합에 대한 대책 : 더 많은 훈련 데이터, 파라미터 수 축소(단순한 모델), 모델의 제약(특정 파라미터가 큰 값을 가지지 못하도록), 훈련 데이터의 잡음을 제거(오류 데이터 수정하고 이상치 제거)\r\n",
        "- 과소적합에 대한 대책 : 더 복잡한 모델(파라미터 확대), 모델의 제약을 줄임 \r\n"
      ]
    },
    {
      "cell_type": "code",
      "metadata": {
        "id": "l2l5-m89DIWu",
        "colab": {
          "base_uri": "https://localhost:8080/"
        },
        "outputId": "2165930b-27fa-4b3f-e043-6647394c8fa6"
      },
      "source": [
        "from keras.datasets import imdb\r\n",
        "import numpy as np\r\n",
        "\r\n",
        "(train_data, train_labels),(test_data, test_labels) = imdb.load_data(num_words=10000)"
      ],
      "execution_count": 1,
      "outputs": [
        {
          "output_type": "stream",
          "text": [
            "Downloading data from https://storage.googleapis.com/tensorflow/tf-keras-datasets/imdb.npz\n",
            "17465344/17464789 [==============================] - 0s 0us/step\n"
          ],
          "name": "stdout"
        },
        {
          "output_type": "stream",
          "text": [
            "<string>:6: VisibleDeprecationWarning: Creating an ndarray from ragged nested sequences (which is a list-or-tuple of lists-or-tuples-or ndarrays with different lengths or shapes) is deprecated. If you meant to do this, you must specify 'dtype=object' when creating the ndarray\n",
            "/usr/local/lib/python3.7/dist-packages/tensorflow/python/keras/datasets/imdb.py:159: VisibleDeprecationWarning: Creating an ndarray from ragged nested sequences (which is a list-or-tuple of lists-or-tuples-or ndarrays with different lengths or shapes) is deprecated. If you meant to do this, you must specify 'dtype=object' when creating the ndarray\n",
            "  x_train, y_train = np.array(xs[:idx]), np.array(labels[:idx])\n",
            "/usr/local/lib/python3.7/dist-packages/tensorflow/python/keras/datasets/imdb.py:160: VisibleDeprecationWarning: Creating an ndarray from ragged nested sequences (which is a list-or-tuple of lists-or-tuples-or ndarrays with different lengths or shapes) is deprecated. If you meant to do this, you must specify 'dtype=object' when creating the ndarray\n",
            "  x_test, y_test = np.array(xs[idx:]), np.array(labels[idx:])\n"
          ],
          "name": "stderr"
        }
      ]
    },
    {
      "cell_type": "code",
      "metadata": {
        "colab": {
          "base_uri": "https://localhost:8080/"
        },
        "id": "CgrCGIUBsV58",
        "outputId": "a2f0c426-fd26-4def-d45d-859d75a8541d"
      },
      "source": [
        "print(train_data.shape)\r\n",
        "print()\r\n",
        "print(len(train_data[0]))\r\n",
        "print()\r\n",
        "train_data[:5]"
      ],
      "execution_count": null,
      "outputs": [
        {
          "output_type": "stream",
          "text": [
            "(25000,)\n",
            "\n",
            "218\n",
            "\n"
          ],
          "name": "stdout"
        },
        {
          "output_type": "execute_result",
          "data": {
            "text/plain": [
              "array([list([1, 14, 22, 16, 43, 530, 973, 1622, 1385, 65, 458, 4468, 66, 3941, 4, 173, 36, 256, 5, 25, 100, 43, 838, 112, 50, 670, 2, 9, 35, 480, 284, 5, 150, 4, 172, 112, 167, 2, 336, 385, 39, 4, 172, 4536, 1111, 17, 546, 38, 13, 447, 4, 192, 50, 16, 6, 147, 2025, 19, 14, 22, 4, 1920, 4613, 469, 4, 22, 71, 87, 12, 16, 43, 530, 38, 76, 15, 13, 1247, 4, 22, 17, 515, 17, 12, 16, 626, 18, 2, 5, 62, 386, 12, 8, 316, 8, 106, 5, 4, 2223, 5244, 16, 480, 66, 3785, 33, 4, 130, 12, 16, 38, 619, 5, 25, 124, 51, 36, 135, 48, 25, 1415, 33, 6, 22, 12, 215, 28, 77, 52, 5, 14, 407, 16, 82, 2, 8, 4, 107, 117, 5952, 15, 256, 4, 2, 7, 3766, 5, 723, 36, 71, 43, 530, 476, 26, 400, 317, 46, 7, 4, 2, 1029, 13, 104, 88, 4, 381, 15, 297, 98, 32, 2071, 56, 26, 141, 6, 194, 7486, 18, 4, 226, 22, 21, 134, 476, 26, 480, 5, 144, 30, 5535, 18, 51, 36, 28, 224, 92, 25, 104, 4, 226, 65, 16, 38, 1334, 88, 12, 16, 283, 5, 16, 4472, 113, 103, 32, 15, 16, 5345, 19, 178, 32]),\n",
              "       list([1, 194, 1153, 194, 8255, 78, 228, 5, 6, 1463, 4369, 5012, 134, 26, 4, 715, 8, 118, 1634, 14, 394, 20, 13, 119, 954, 189, 102, 5, 207, 110, 3103, 21, 14, 69, 188, 8, 30, 23, 7, 4, 249, 126, 93, 4, 114, 9, 2300, 1523, 5, 647, 4, 116, 9, 35, 8163, 4, 229, 9, 340, 1322, 4, 118, 9, 4, 130, 4901, 19, 4, 1002, 5, 89, 29, 952, 46, 37, 4, 455, 9, 45, 43, 38, 1543, 1905, 398, 4, 1649, 26, 6853, 5, 163, 11, 3215, 2, 4, 1153, 9, 194, 775, 7, 8255, 2, 349, 2637, 148, 605, 2, 8003, 15, 123, 125, 68, 2, 6853, 15, 349, 165, 4362, 98, 5, 4, 228, 9, 43, 2, 1157, 15, 299, 120, 5, 120, 174, 11, 220, 175, 136, 50, 9, 4373, 228, 8255, 5, 2, 656, 245, 2350, 5, 4, 9837, 131, 152, 491, 18, 2, 32, 7464, 1212, 14, 9, 6, 371, 78, 22, 625, 64, 1382, 9, 8, 168, 145, 23, 4, 1690, 15, 16, 4, 1355, 5, 28, 6, 52, 154, 462, 33, 89, 78, 285, 16, 145, 95]),\n",
              "       list([1, 14, 47, 8, 30, 31, 7, 4, 249, 108, 7, 4, 5974, 54, 61, 369, 13, 71, 149, 14, 22, 112, 4, 2401, 311, 12, 16, 3711, 33, 75, 43, 1829, 296, 4, 86, 320, 35, 534, 19, 263, 4821, 1301, 4, 1873, 33, 89, 78, 12, 66, 16, 4, 360, 7, 4, 58, 316, 334, 11, 4, 1716, 43, 645, 662, 8, 257, 85, 1200, 42, 1228, 2578, 83, 68, 3912, 15, 36, 165, 1539, 278, 36, 69, 2, 780, 8, 106, 14, 6905, 1338, 18, 6, 22, 12, 215, 28, 610, 40, 6, 87, 326, 23, 2300, 21, 23, 22, 12, 272, 40, 57, 31, 11, 4, 22, 47, 6, 2307, 51, 9, 170, 23, 595, 116, 595, 1352, 13, 191, 79, 638, 89, 2, 14, 9, 8, 106, 607, 624, 35, 534, 6, 227, 7, 129, 113]),\n",
              "       list([1, 4, 2, 2, 33, 2804, 4, 2040, 432, 111, 153, 103, 4, 1494, 13, 70, 131, 67, 11, 61, 2, 744, 35, 3715, 761, 61, 5766, 452, 9214, 4, 985, 7, 2, 59, 166, 4, 105, 216, 1239, 41, 1797, 9, 15, 7, 35, 744, 2413, 31, 8, 4, 687, 23, 4, 2, 7339, 6, 3693, 42, 38, 39, 121, 59, 456, 10, 10, 7, 265, 12, 575, 111, 153, 159, 59, 16, 1447, 21, 25, 586, 482, 39, 4, 96, 59, 716, 12, 4, 172, 65, 9, 579, 11, 6004, 4, 1615, 5, 2, 7, 5168, 17, 13, 7064, 12, 19, 6, 464, 31, 314, 11, 2, 6, 719, 605, 11, 8, 202, 27, 310, 4, 3772, 3501, 8, 2722, 58, 10, 10, 537, 2116, 180, 40, 14, 413, 173, 7, 263, 112, 37, 152, 377, 4, 537, 263, 846, 579, 178, 54, 75, 71, 476, 36, 413, 263, 2504, 182, 5, 17, 75, 2306, 922, 36, 279, 131, 2895, 17, 2867, 42, 17, 35, 921, 2, 192, 5, 1219, 3890, 19, 2, 217, 4122, 1710, 537, 2, 1236, 5, 736, 10, 10, 61, 403, 9, 2, 40, 61, 4494, 5, 27, 4494, 159, 90, 263, 2311, 4319, 309, 8, 178, 5, 82, 4319, 4, 65, 15, 9225, 145, 143, 5122, 12, 7039, 537, 746, 537, 537, 15, 7979, 4, 2, 594, 7, 5168, 94, 9096, 3987, 2, 11, 2, 4, 538, 7, 1795, 246, 2, 9, 2, 11, 635, 14, 9, 51, 408, 12, 94, 318, 1382, 12, 47, 6, 2683, 936, 5, 6307, 2, 19, 49, 7, 4, 1885, 2, 1118, 25, 80, 126, 842, 10, 10, 2, 2, 4726, 27, 4494, 11, 1550, 3633, 159, 27, 341, 29, 2733, 19, 4185, 173, 7, 90, 2, 8, 30, 11, 4, 1784, 86, 1117, 8, 3261, 46, 11, 2, 21, 29, 9, 2841, 23, 4, 1010, 2, 793, 6, 2, 1386, 1830, 10, 10, 246, 50, 9, 6, 2750, 1944, 746, 90, 29, 2, 8, 124, 4, 882, 4, 882, 496, 27, 2, 2213, 537, 121, 127, 1219, 130, 5, 29, 494, 8, 124, 4, 882, 496, 4, 341, 7, 27, 846, 10, 10, 29, 9, 1906, 8, 97, 6, 236, 2, 1311, 8, 4, 2, 7, 31, 7, 2, 91, 2, 3987, 70, 4, 882, 30, 579, 42, 9, 12, 32, 11, 537, 10, 10, 11, 14, 65, 44, 537, 75, 2, 1775, 3353, 2, 1846, 4, 2, 7, 154, 5, 4, 518, 53, 2, 2, 7, 3211, 882, 11, 399, 38, 75, 257, 3807, 19, 2, 17, 29, 456, 4, 65, 7, 27, 205, 113, 10, 10, 2, 4, 2, 2, 9, 242, 4, 91, 1202, 2, 5, 2070, 307, 22, 7, 5168, 126, 93, 40, 2, 13, 188, 1076, 3222, 19, 4, 2, 7, 2348, 537, 23, 53, 537, 21, 82, 40, 2, 13, 2, 14, 280, 13, 219, 4, 2, 431, 758, 859, 4, 953, 1052, 2, 7, 5991, 5, 94, 40, 25, 238, 60, 2, 4, 2, 804, 2, 7, 4, 9941, 132, 8, 67, 6, 22, 15, 9, 283, 8, 5168, 14, 31, 9, 242, 955, 48, 25, 279, 2, 23, 12, 1685, 195, 25, 238, 60, 796, 2, 4, 671, 7, 2804, 5, 4, 559, 154, 888, 7, 726, 50, 26, 49, 7008, 15, 566, 30, 579, 21, 64, 2574]),\n",
              "       list([1, 249, 1323, 7, 61, 113, 10, 10, 13, 1637, 14, 20, 56, 33, 2401, 18, 457, 88, 13, 2626, 1400, 45, 3171, 13, 70, 79, 49, 706, 919, 13, 16, 355, 340, 355, 1696, 96, 143, 4, 22, 32, 289, 7, 61, 369, 71, 2359, 5, 13, 16, 131, 2073, 249, 114, 249, 229, 249, 20, 13, 28, 126, 110, 13, 473, 8, 569, 61, 419, 56, 429, 6, 1513, 18, 35, 534, 95, 474, 570, 5, 25, 124, 138, 88, 12, 421, 1543, 52, 725, 6397, 61, 419, 11, 13, 1571, 15, 1543, 20, 11, 4, 2, 5, 296, 12, 3524, 5, 15, 421, 128, 74, 233, 334, 207, 126, 224, 12, 562, 298, 2167, 1272, 7, 2601, 5, 516, 988, 43, 8, 79, 120, 15, 595, 13, 784, 25, 3171, 18, 165, 170, 143, 19, 14, 5, 7224, 6, 226, 251, 7, 61, 113])],\n",
              "      dtype=object)"
            ]
          },
          "metadata": {
            "tags": []
          },
          "execution_count": 2
        }
      ]
    },
    {
      "cell_type": "code",
      "metadata": {
        "id": "L6glS9m0s-1Q"
      },
      "source": [
        "def vectorize_sequences(sequences, dimension=10000):\r\n",
        "  results = np.zeros((len(sequences), dimension))\r\n",
        "  for i, sequence in enumerate(sequences):\r\n",
        "    results[[i, sequence]] = 1.    # 해당되는 인덱스만 1을 넣어줌. 부동소수로 만들어야하기 때문에 . 을 넣어줌\r\n",
        "  return results  "
      ],
      "execution_count": 2,
      "outputs": []
    },
    {
      "cell_type": "code",
      "metadata": {
        "colab": {
          "base_uri": "https://localhost:8080/"
        },
        "id": "2OVmjoiGs-40",
        "outputId": "0186d4f0-87b5-4484-a9bc-495d2134df09"
      },
      "source": [
        "r = np.zeros((25000,10000))\r\n",
        "r"
      ],
      "execution_count": null,
      "outputs": [
        {
          "output_type": "execute_result",
          "data": {
            "text/plain": [
              "array([[0., 0., 0., ..., 0., 0., 0.],\n",
              "       [0., 0., 0., ..., 0., 0., 0.],\n",
              "       [0., 0., 0., ..., 0., 0., 0.],\n",
              "       ...,\n",
              "       [0., 0., 0., ..., 0., 0., 0.],\n",
              "       [0., 0., 0., ..., 0., 0., 0.],\n",
              "       [0., 0., 0., ..., 0., 0., 0.]])"
            ]
          },
          "metadata": {
            "tags": []
          },
          "execution_count": 10
        }
      ]
    },
    {
      "cell_type": "code",
      "metadata": {
        "colab": {
          "base_uri": "https://localhost:8080/"
        },
        "id": "QIg5wlRls-8T",
        "outputId": "d199858a-643a-4dd6-b9d4-f46199388a88"
      },
      "source": [
        "x_train = vectorize_sequences(train_data)\r\n",
        "x_test = vectorize_sequences(test_data)\r\n",
        "y_train = np.asarray(train_labels).astype('float32')\r\n",
        "y_test = np.asarray(test_labels).astype('float32')"
      ],
      "execution_count": 3,
      "outputs": [
        {
          "output_type": "stream",
          "text": [
            "/usr/local/lib/python3.7/dist-packages/ipykernel_launcher.py:4: FutureWarning: Using a non-tuple sequence for multidimensional indexing is deprecated; use `arr[tuple(seq)]` instead of `arr[seq]`. In the future this will be interpreted as an array index, `arr[np.array(seq)]`, which will result either in an error or a different result.\n",
            "  after removing the cwd from sys.path.\n"
          ],
          "name": "stderr"
        }
      ]
    },
    {
      "cell_type": "code",
      "metadata": {
        "colab": {
          "base_uri": "https://localhost:8080/"
        },
        "id": "rfgSogXls_AD",
        "outputId": "19396be6-ce70-4599-c7e3-3cccaa3e28fb"
      },
      "source": [
        "x_train.shape\r\n",
        "x_train[0][:20]"
      ],
      "execution_count": null,
      "outputs": [
        {
          "output_type": "execute_result",
          "data": {
            "text/plain": [
              "array([0., 1., 1., 0., 1., 1., 1., 1., 1., 1., 0., 0., 1., 1., 1., 1., 1.,\n",
              "       1., 1., 1.])"
            ]
          },
          "metadata": {
            "tags": []
          },
          "execution_count": 18
        }
      ]
    },
    {
      "cell_type": "code",
      "metadata": {
        "id": "h9dTHUpCyQ-U"
      },
      "source": [
        "# 네트워크 크기 축소\r\n",
        "\r\n",
        "from keras import models\r\n",
        "from keras import layers\r\n",
        "\r\n",
        "original_model = models.Sequential()\r\n",
        "original_model.add(layers.Dense(16, activation='relu', input_shape=(10000,)))\r\n",
        "original_model.add(layers.Dense(16, activation='relu'))\r\n",
        "original_model.add(layers.Dense(1, activation='sigmoid'))\r\n",
        "original_model.compile(optimizer='rmsprop',\r\n",
        "                 loss='binary_crossentropy',\r\n",
        "                 metrics=['acc'])"
      ],
      "execution_count": 4,
      "outputs": []
    },
    {
      "cell_type": "code",
      "metadata": {
        "id": "e2IHIBnwyRHy"
      },
      "source": [
        "# 더 작은 네트워크\r\n",
        "\r\n",
        "smaller_model = models.Sequential()\r\n",
        "smaller_model.add(layers.Dense(6, activation='relu', input_shape=(10000,)))\r\n",
        "smaller_model.add(layers.Dense(6, activation='relu'))\r\n",
        "smaller_model.add(layers.Dense(1, activation='sigmoid'))\r\n",
        "smaller_model.compile(optimizer='rmsprop',\r\n",
        "                      loss='binary_crossentropy',\r\n",
        "                      metrics=['acc'])"
      ],
      "execution_count": null,
      "outputs": []
    },
    {
      "cell_type": "code",
      "metadata": {
        "colab": {
          "base_uri": "https://localhost:8080/"
        },
        "id": "k1XySbn82ngY",
        "outputId": "b90aed2c-c59a-4ce7-d635-67e21a2bb7a2"
      },
      "source": [
        "original_hist = original_model.fit(x_train, y_train,\r\n",
        "                                   epochs=20,\r\n",
        "                                   batch_size=512,\r\n",
        "                                   validation_data=(x_test, y_test))"
      ],
      "execution_count": 5,
      "outputs": [
        {
          "output_type": "stream",
          "text": [
            "Epoch 1/20\n",
            "49/49 [==============================] - 5s 37ms/step - loss: 0.5694 - acc: 0.7326 - val_loss: 0.3569 - val_acc: 0.8782\n",
            "Epoch 2/20\n",
            "49/49 [==============================] - 1s 21ms/step - loss: 0.2859 - acc: 0.9083 - val_loss: 0.2874 - val_acc: 0.8898\n",
            "Epoch 3/20\n",
            "49/49 [==============================] - 1s 21ms/step - loss: 0.2093 - acc: 0.9273 - val_loss: 0.2882 - val_acc: 0.8847\n",
            "Epoch 4/20\n",
            "49/49 [==============================] - 1s 22ms/step - loss: 0.1634 - acc: 0.9456 - val_loss: 0.3062 - val_acc: 0.8768\n",
            "Epoch 5/20\n",
            "49/49 [==============================] - 1s 21ms/step - loss: 0.1392 - acc: 0.9523 - val_loss: 0.3152 - val_acc: 0.8773\n",
            "Epoch 6/20\n",
            "49/49 [==============================] - 1s 22ms/step - loss: 0.1228 - acc: 0.9591 - val_loss: 0.3271 - val_acc: 0.8763\n",
            "Epoch 7/20\n",
            "49/49 [==============================] - 1s 22ms/step - loss: 0.1073 - acc: 0.9660 - val_loss: 0.3610 - val_acc: 0.8692\n",
            "Epoch 8/20\n",
            "49/49 [==============================] - 1s 22ms/step - loss: 0.0887 - acc: 0.9725 - val_loss: 0.3695 - val_acc: 0.8721\n",
            "Epoch 9/20\n",
            "49/49 [==============================] - 1s 21ms/step - loss: 0.0780 - acc: 0.9775 - val_loss: 0.4389 - val_acc: 0.8602\n",
            "Epoch 10/20\n",
            "49/49 [==============================] - 1s 22ms/step - loss: 0.0671 - acc: 0.9794 - val_loss: 0.4327 - val_acc: 0.8631\n",
            "Epoch 11/20\n",
            "49/49 [==============================] - 1s 21ms/step - loss: 0.0533 - acc: 0.9863 - val_loss: 0.4593 - val_acc: 0.8630\n",
            "Epoch 12/20\n",
            "49/49 [==============================] - 1s 21ms/step - loss: 0.0460 - acc: 0.9877 - val_loss: 0.5043 - val_acc: 0.8578\n",
            "Epoch 13/20\n",
            "49/49 [==============================] - 1s 21ms/step - loss: 0.0344 - acc: 0.9926 - val_loss: 0.5315 - val_acc: 0.8578\n",
            "Epoch 14/20\n",
            "49/49 [==============================] - 1s 22ms/step - loss: 0.0271 - acc: 0.9951 - val_loss: 0.5603 - val_acc: 0.8580\n",
            "Epoch 15/20\n",
            "49/49 [==============================] - 1s 22ms/step - loss: 0.0225 - acc: 0.9952 - val_loss: 0.5944 - val_acc: 0.8575\n",
            "Epoch 16/20\n",
            "49/49 [==============================] - 1s 22ms/step - loss: 0.0163 - acc: 0.9971 - val_loss: 0.6249 - val_acc: 0.8561\n",
            "Epoch 17/20\n",
            "49/49 [==============================] - 1s 22ms/step - loss: 0.0125 - acc: 0.9982 - val_loss: 0.7116 - val_acc: 0.8486\n",
            "Epoch 18/20\n",
            "49/49 [==============================] - 1s 22ms/step - loss: 0.0107 - acc: 0.9984 - val_loss: 0.7151 - val_acc: 0.8540\n",
            "Epoch 19/20\n",
            "49/49 [==============================] - 1s 22ms/step - loss: 0.0089 - acc: 0.9983 - val_loss: 0.7553 - val_acc: 0.8521\n",
            "Epoch 20/20\n",
            "49/49 [==============================] - 1s 22ms/step - loss: 0.0063 - acc: 0.9990 - val_loss: 0.7951 - val_acc: 0.8535\n"
          ],
          "name": "stdout"
        }
      ]
    },
    {
      "cell_type": "code",
      "metadata": {
        "colab": {
          "base_uri": "https://localhost:8080/"
        },
        "id": "4GXROhM-2nnu",
        "outputId": "88dcf366-4a86-4e97-ba47-d2977d277e8d"
      },
      "source": [
        "smaller_model_hist = smaller_model.fit(x_train, y_train,\r\n",
        "                                   epochs=20,\r\n",
        "                                   batch_size=512,\r\n",
        "                                   validation_data=(x_test, y_test))"
      ],
      "execution_count": null,
      "outputs": [
        {
          "output_type": "stream",
          "text": [
            "Epoch 1/20\n",
            "49/49 [==============================] - 2s 32ms/step - loss: 0.5821 - acc: 0.7469 - val_loss: 0.3897 - val_acc: 0.8683\n",
            "Epoch 2/20\n",
            "49/49 [==============================] - 1s 21ms/step - loss: 0.3297 - acc: 0.8967 - val_loss: 0.3127 - val_acc: 0.8861\n",
            "Epoch 3/20\n",
            "49/49 [==============================] - 1s 21ms/step - loss: 0.2384 - acc: 0.9240 - val_loss: 0.2878 - val_acc: 0.8876\n",
            "Epoch 4/20\n",
            "49/49 [==============================] - 1s 21ms/step - loss: 0.2003 - acc: 0.9331 - val_loss: 0.2826 - val_acc: 0.8889\n",
            "Epoch 5/20\n",
            "49/49 [==============================] - 1s 22ms/step - loss: 0.1747 - acc: 0.9401 - val_loss: 0.2840 - val_acc: 0.8876\n",
            "Epoch 6/20\n",
            "49/49 [==============================] - 1s 21ms/step - loss: 0.1504 - acc: 0.9509 - val_loss: 0.3008 - val_acc: 0.8816\n",
            "Epoch 7/20\n",
            "49/49 [==============================] - 1s 21ms/step - loss: 0.1370 - acc: 0.9565 - val_loss: 0.3082 - val_acc: 0.8804\n",
            "Epoch 8/20\n",
            "49/49 [==============================] - 1s 22ms/step - loss: 0.1189 - acc: 0.9629 - val_loss: 0.3251 - val_acc: 0.8772\n",
            "Epoch 9/20\n",
            "49/49 [==============================] - 1s 21ms/step - loss: 0.1110 - acc: 0.9652 - val_loss: 0.3477 - val_acc: 0.8733\n",
            "Epoch 10/20\n",
            "49/49 [==============================] - 1s 21ms/step - loss: 0.1010 - acc: 0.9676 - val_loss: 0.3565 - val_acc: 0.8736\n",
            "Epoch 11/20\n",
            "49/49 [==============================] - 1s 22ms/step - loss: 0.0930 - acc: 0.9722 - val_loss: 0.3787 - val_acc: 0.8688\n",
            "Epoch 12/20\n",
            "49/49 [==============================] - 1s 21ms/step - loss: 0.0849 - acc: 0.9740 - val_loss: 0.3916 - val_acc: 0.8698\n",
            "Epoch 13/20\n",
            "49/49 [==============================] - 1s 21ms/step - loss: 0.0795 - acc: 0.9778 - val_loss: 0.4185 - val_acc: 0.8674\n",
            "Epoch 14/20\n",
            "49/49 [==============================] - 1s 21ms/step - loss: 0.0713 - acc: 0.9801 - val_loss: 0.4350 - val_acc: 0.8653\n",
            "Epoch 15/20\n",
            "49/49 [==============================] - 1s 22ms/step - loss: 0.0652 - acc: 0.9824 - val_loss: 0.4811 - val_acc: 0.8565\n",
            "Epoch 16/20\n",
            "49/49 [==============================] - 1s 21ms/step - loss: 0.0597 - acc: 0.9842 - val_loss: 0.4876 - val_acc: 0.8590\n",
            "Epoch 17/20\n",
            "49/49 [==============================] - 1s 21ms/step - loss: 0.0557 - acc: 0.9867 - val_loss: 0.5225 - val_acc: 0.8540\n",
            "Epoch 18/20\n",
            "49/49 [==============================] - 1s 21ms/step - loss: 0.0513 - acc: 0.9872 - val_loss: 0.5381 - val_acc: 0.8549\n",
            "Epoch 19/20\n",
            "49/49 [==============================] - 1s 21ms/step - loss: 0.0467 - acc: 0.9887 - val_loss: 0.5575 - val_acc: 0.8554\n",
            "Epoch 20/20\n",
            "49/49 [==============================] - 1s 21ms/step - loss: 0.0412 - acc: 0.9903 - val_loss: 0.5835 - val_acc: 0.8551\n"
          ],
          "name": "stdout"
        }
      ]
    },
    {
      "cell_type": "code",
      "metadata": {
        "id": "YIUBHshf2nre"
      },
      "source": [
        "epochs = range(1,21)\r\n",
        "original_val_loss = original_hist.history['val_loss']\r\n",
        "smaller_model_val_loss = smaller_model_hist.history['val_loss']"
      ],
      "execution_count": 10,
      "outputs": []
    },
    {
      "cell_type": "code",
      "metadata": {
        "colab": {
          "base_uri": "https://localhost:8080/",
          "height": 279
        },
        "id": "Y-lk4O9B38-m",
        "outputId": "5a0846a8-9925-4cb0-a062-f5aecba08012"
      },
      "source": [
        "import matplotlib.pyplot as plt\r\n",
        "plt.plot(epochs, original_val_loss, 'b+', label='Original model')\r\n",
        "plt.plot(epochs, smaller_model_val_loss, 'bo', label='Smaller model')\r\n",
        "plt.xlabel('Epochs')\r\n",
        "plt.ylabel('Validation loss')\r\n",
        "plt.legend()\r\n",
        "plt.show()"
      ],
      "execution_count": null,
      "outputs": [
        {
          "output_type": "display_data",
          "data": {
            "image/png": "[encoded data removed]",
            "text/plain": [
              "<Figure size 432x288 with 1 Axes>"
            ]
          },
          "metadata": {
            "tags": [],
            "needs_background": "light"
          }
        }
      ]
    },
    {
      "cell_type": "code",
      "metadata": {
        "id": "uaThOBBO39HG"
      },
      "source": [
        "# 더 큰 네트워크\r\n",
        "\r\n",
        "bigger_model = models.Sequential()\r\n",
        "bigger_model.add(layers.Dense(1024, activation='relu', input_shape=(10000,)))\r\n",
        "bigger_model.add(layers.Dense(1024, activation='relu'))\r\n",
        "bigger_model.add(layers.Dense(1, activation='sigmoid'))\r\n",
        "bigger_model.compile(optimizer='rmsprop',\r\n",
        "                      loss='binary_crossentropy',\r\n",
        "                      metrics=['acc'])"
      ],
      "execution_count": null,
      "outputs": []
    },
    {
      "cell_type": "code",
      "metadata": {
        "colab": {
          "base_uri": "https://localhost:8080/"
        },
        "id": "MhdyGP653l7H",
        "outputId": "1cc078dc-0386-4dd8-e68c-2e4c573ed3aa"
      },
      "source": [
        "bigger_model_hist = bigger_model.fit(x_train, y_train,\r\n",
        "                                   epochs=20,\r\n",
        "                                   batch_size=512,\r\n",
        "                                   validation_data=(x_test, y_test))"
      ],
      "execution_count": null,
      "outputs": [
        {
          "output_type": "stream",
          "text": [
            "Epoch 1/20\n",
            "49/49 [==============================] - 2s 42ms/step - loss: 0.9032 - acc: 0.6890 - val_loss: 0.2915 - val_acc: 0.8764\n",
            "Epoch 2/20\n",
            "49/49 [==============================] - 2s 35ms/step - loss: 0.2298 - acc: 0.9049 - val_loss: 0.3135 - val_acc: 0.8750\n",
            "Epoch 3/20\n",
            "49/49 [==============================] - 2s 34ms/step - loss: 0.1080 - acc: 0.9605 - val_loss: 0.4434 - val_acc: 0.8698\n",
            "Epoch 4/20\n",
            "49/49 [==============================] - 2s 34ms/step - loss: 0.0810 - acc: 0.9807 - val_loss: 0.4448 - val_acc: 0.8839\n",
            "Epoch 5/20\n",
            "49/49 [==============================] - 2s 34ms/step - loss: 0.0403 - acc: 0.9945 - val_loss: 0.4864 - val_acc: 0.8812\n",
            "Epoch 6/20\n",
            "49/49 [==============================] - 2s 34ms/step - loss: 0.0011 - acc: 1.0000 - val_loss: 0.6695 - val_acc: 0.8805\n",
            "Epoch 7/20\n",
            "49/49 [==============================] - 2s 34ms/step - loss: 9.2299e-05 - acc: 1.0000 - val_loss: 0.9017 - val_acc: 0.8746\n",
            "Epoch 8/20\n",
            "49/49 [==============================] - 2s 34ms/step - loss: 0.1930 - acc: 0.9872 - val_loss: 0.6596 - val_acc: 0.8775\n",
            "Epoch 9/20\n",
            "49/49 [==============================] - 2s 34ms/step - loss: 2.6918e-04 - acc: 0.9999 - val_loss: 1.6903 - val_acc: 0.7777\n",
            "Epoch 10/20\n",
            "49/49 [==============================] - 2s 34ms/step - loss: 0.4905 - acc: 0.9537 - val_loss: 0.7311 - val_acc: 0.8730\n",
            "Epoch 11/20\n",
            "49/49 [==============================] - 2s 34ms/step - loss: 2.8421e-05 - acc: 1.0000 - val_loss: 0.7857 - val_acc: 0.8800\n",
            "Epoch 12/20\n",
            "49/49 [==============================] - 2s 34ms/step - loss: 6.1392e-06 - acc: 1.0000 - val_loss: 0.9322 - val_acc: 0.8783\n",
            "Epoch 13/20\n",
            "49/49 [==============================] - 2s 34ms/step - loss: 1.1128e-06 - acc: 1.0000 - val_loss: 1.0590 - val_acc: 0.8780\n",
            "Epoch 14/20\n",
            "49/49 [==============================] - 2s 33ms/step - loss: 2.1221e-07 - acc: 1.0000 - val_loss: 1.1898 - val_acc: 0.8800\n",
            "Epoch 15/20\n",
            "49/49 [==============================] - 2s 34ms/step - loss: 4.6838e-08 - acc: 1.0000 - val_loss: 1.2860 - val_acc: 0.8792\n",
            "Epoch 16/20\n",
            "49/49 [==============================] - 2s 34ms/step - loss: 1.7205e-08 - acc: 1.0000 - val_loss: 1.3346 - val_acc: 0.8794\n",
            "Epoch 17/20\n",
            "49/49 [==============================] - 2s 34ms/step - loss: 1.0220e-08 - acc: 1.0000 - val_loss: 1.3624 - val_acc: 0.8797\n",
            "Epoch 18/20\n",
            "49/49 [==============================] - 2s 34ms/step - loss: 6.9714e-09 - acc: 1.0000 - val_loss: 1.3863 - val_acc: 0.8793\n",
            "Epoch 19/20\n",
            "49/49 [==============================] - 2s 34ms/step - loss: 5.2281e-09 - acc: 1.0000 - val_loss: 1.4038 - val_acc: 0.8792\n",
            "Epoch 20/20\n",
            "49/49 [==============================] - 2s 34ms/step - loss: 4.8446e-09 - acc: 1.0000 - val_loss: 1.4169 - val_acc: 0.8792\n"
          ],
          "name": "stdout"
        }
      ]
    },
    {
      "cell_type": "code",
      "metadata": {
        "colab": {
          "base_uri": "https://localhost:8080/",
          "height": 279
        },
        "id": "WfPYArWE2nu_",
        "outputId": "dab07ff0-5652-425c-bf48-4cca052c5f78"
      },
      "source": [
        "bigger_model_val_loss = bigger_model_hist.history['val_loss']\r\n",
        "\r\n",
        "import matplotlib.pyplot as plt\r\n",
        "plt.plot(epochs, original_val_loss, 'b+', label='Original model')\r\n",
        "plt.plot(epochs, bigger_model_val_loss, 'bo', label='Bigger model')\r\n",
        "plt.xlabel('Epochs')\r\n",
        "plt.ylabel('Validation loss')\r\n",
        "plt.legend()\r\n",
        "plt.show()"
      ],
      "execution_count": null,
      "outputs": [
        {
          "output_type": "display_data",
          "data": {
            "image/png": "[encoded data removed]",
            "text/plain": [
              "<Figure size 432x288 with 1 Axes>"
            ]
          },
          "metadata": {
            "tags": [],
            "needs_background": "light"
          }
        }
      ]
    },
    {
      "cell_type": "markdown",
      "metadata": {
        "id": "4o4Z2F-r6v60"
      },
      "source": [
        "용량이 큰 네트워크는 첫번째 에포크 이후 바로 과대적합이 시작되어 갈수록 심해진다."
      ]
    },
    {
      "cell_type": "markdown",
      "metadata": {
        "id": "xH8bxdJQ9ZMD"
      },
      "source": [
        "### 가중치 규제 추가\r\n",
        "- L1 규제 : 가중치의 절대값에 비례하는 비용이 추가(가중치의 L1 노름)\r\n",
        "- L2 규제 : 가중치의 제곱에 비례하는 비용이 추가(가중치의 L2 노름) - 가중치 감쇠라고도 함."
      ]
    },
    {
      "cell_type": "code",
      "metadata": {
        "id": "g3AygG0H5twa"
      },
      "source": [
        "from keras import regularizers\r\n",
        "\r\n",
        "l2_model = models.Sequential()\r\n",
        "l2_model.add(layers.Dense(16, kernel_regularizer=regularizers.l2(0.001), \r\n",
        "                          activation='relu', input_shape=(10000,)))\r\n",
        "l2_model.add(layers.Dense(16, kernel_regularizer=regularizers.l2(0.001),\r\n",
        "                         activation='relu'))\r\n",
        "l2_model.add(layers.Dense(1, activation='sigmoid'))\r\n",
        "l2_model.compile(optimizer='rmsprop',\r\n",
        "                 loss='binary_crossentropy',\r\n",
        "                 metrics=['acc'])"
      ],
      "execution_count": null,
      "outputs": []
    },
    {
      "cell_type": "code",
      "metadata": {
        "colab": {
          "base_uri": "https://localhost:8080/"
        },
        "id": "0h4zpIEn7N-z",
        "outputId": "40346259-c8ed-4984-e3b5-bbf3dcf21e11"
      },
      "source": [
        "l2_model_hist = l2_model.fit(x_train, y_train,\r\n",
        "                             epochs=20,\r\n",
        "                             batch_size=512,\r\n",
        "                             validation_data=(x_test, y_test))"
      ],
      "execution_count": null,
      "outputs": [
        {
          "output_type": "stream",
          "text": [
            "Epoch 1/20\n",
            "49/49 [==============================] - 2s 29ms/step - loss: 0.5909 - acc: 0.7434 - val_loss: 0.3891 - val_acc: 0.8766\n",
            "Epoch 2/20\n",
            "49/49 [==============================] - 1s 21ms/step - loss: 0.3318 - acc: 0.9046 - val_loss: 0.3358 - val_acc: 0.8901\n",
            "Epoch 3/20\n",
            "49/49 [==============================] - 1s 21ms/step - loss: 0.2695 - acc: 0.9231 - val_loss: 0.3390 - val_acc: 0.8838\n",
            "Epoch 4/20\n",
            "49/49 [==============================] - 1s 21ms/step - loss: 0.2445 - acc: 0.9330 - val_loss: 0.3572 - val_acc: 0.8754\n",
            "Epoch 5/20\n",
            "49/49 [==============================] - 1s 21ms/step - loss: 0.2323 - acc: 0.9383 - val_loss: 0.3484 - val_acc: 0.8822\n",
            "Epoch 6/20\n",
            "49/49 [==============================] - 1s 21ms/step - loss: 0.2253 - acc: 0.9408 - val_loss: 0.3642 - val_acc: 0.8749\n",
            "Epoch 7/20\n",
            "49/49 [==============================] - 1s 22ms/step - loss: 0.2164 - acc: 0.9427 - val_loss: 0.3535 - val_acc: 0.8802\n",
            "Epoch 8/20\n",
            "49/49 [==============================] - 1s 21ms/step - loss: 0.2091 - acc: 0.9459 - val_loss: 0.3633 - val_acc: 0.8773\n",
            "Epoch 9/20\n",
            "49/49 [==============================] - 1s 21ms/step - loss: 0.2080 - acc: 0.9458 - val_loss: 0.3697 - val_acc: 0.8756\n",
            "Epoch 10/20\n",
            "49/49 [==============================] - 1s 21ms/step - loss: 0.1993 - acc: 0.9528 - val_loss: 0.3742 - val_acc: 0.8750\n",
            "Epoch 11/20\n",
            "49/49 [==============================] - 1s 21ms/step - loss: 0.1980 - acc: 0.9516 - val_loss: 0.3786 - val_acc: 0.8752\n",
            "Epoch 12/20\n",
            "49/49 [==============================] - 1s 21ms/step - loss: 0.1984 - acc: 0.9503 - val_loss: 0.3882 - val_acc: 0.8728\n",
            "Epoch 13/20\n",
            "49/49 [==============================] - 1s 21ms/step - loss: 0.1948 - acc: 0.9528 - val_loss: 0.4290 - val_acc: 0.8612\n",
            "Epoch 14/20\n",
            "49/49 [==============================] - 1s 21ms/step - loss: 0.1933 - acc: 0.9504 - val_loss: 0.3929 - val_acc: 0.8714\n",
            "Epoch 15/20\n",
            "49/49 [==============================] - 1s 21ms/step - loss: 0.1857 - acc: 0.9568 - val_loss: 0.4049 - val_acc: 0.8691\n",
            "Epoch 16/20\n",
            "49/49 [==============================] - 1s 21ms/step - loss: 0.1840 - acc: 0.9566 - val_loss: 0.3990 - val_acc: 0.8718\n",
            "Epoch 17/20\n",
            "49/49 [==============================] - 1s 21ms/step - loss: 0.1838 - acc: 0.9575 - val_loss: 0.4221 - val_acc: 0.8674\n",
            "Epoch 18/20\n",
            "49/49 [==============================] - 1s 21ms/step - loss: 0.1787 - acc: 0.9600 - val_loss: 0.4166 - val_acc: 0.8678\n",
            "Epoch 19/20\n",
            "49/49 [==============================] - 1s 21ms/step - loss: 0.1778 - acc: 0.9591 - val_loss: 0.4160 - val_acc: 0.8693\n",
            "Epoch 20/20\n",
            "49/49 [==============================] - 1s 21ms/step - loss: 0.1770 - acc: 0.9584 - val_loss: 0.4199 - val_acc: 0.8665\n"
          ],
          "name": "stdout"
        }
      ]
    },
    {
      "cell_type": "code",
      "metadata": {
        "colab": {
          "base_uri": "https://localhost:8080/",
          "height": 279
        },
        "id": "m4GvpcML7OC9",
        "outputId": "ef269117-8d16-4429-fbe0-ab1ba5bbc2e9"
      },
      "source": [
        "l2_model_val_loss = l2_model_hist.history['val_loss']\r\n",
        "\r\n",
        "plt.plot(epochs, original_val_loss, 'b+', label='Original model')\r\n",
        "plt.plot(epochs, l2_model_val_loss, 'bo', label='L2-regularized model')\r\n",
        "plt.xlabel('Epochs')\r\n",
        "plt.ylabel('Validation loss')\r\n",
        "plt.legend()\r\n",
        "plt.show()\r\n"
      ],
      "execution_count": null,
      "outputs": [
        {
          "output_type": "display_data",
          "data": {
            "image/png": "[encoded data removed]",
            "text/plain": [
              "<Figure size 432x288 with 1 Axes>"
            ]
          },
          "metadata": {
            "tags": [],
            "needs_background": "light"
          }
        }
      ]
    },
    {
      "cell_type": "markdown",
      "metadata": {
        "id": "Zudfjtk8-5Tv"
      },
      "source": [
        "두 모델이 동일한 파라미터 수를 가지고 있더라도 L2 규제를 사용한 모델이 기본 모델 보다 훨씬 더 과대적합에 잘 견디고 있다."
      ]
    },
    {
      "cell_type": "code",
      "metadata": {
        "id": "RRtrzOzX_FY6"
      },
      "source": [
        "# L1 규제\r\n",
        "1. l1(0.0001) 모델과 비교"
      ],
      "execution_count": null,
      "outputs": []
    },
    {
      "cell_type": "code",
      "metadata": {
        "id": "UwbBGbXHQHx4"
      },
      "source": [
        "from keras import regularizers\r\n",
        "\r\n",
        "l1_model = models.Sequential()\r\n",
        "l1_model.add(layers.Dense(16, kernel_regularizer=regularizers.l1(0.0001), \r\n",
        "                          activation='relu', input_shape=(10000,)))\r\n",
        "l1_model.add(layers.Dense(16, kernel_regularizer=regularizers.l1(0.0001),\r\n",
        "                         activation='relu'))\r\n",
        "l1_model.add(layers.Dense(1, activation='sigmoid'))\r\n",
        "l1_model.compile(optimizer='rmsprop',\r\n",
        "                 loss='binary_crossentropy',\r\n",
        "                 metrics=['acc'])"
      ],
      "execution_count": 6,
      "outputs": []
    },
    {
      "cell_type": "code",
      "metadata": {
        "colab": {
          "base_uri": "https://localhost:8080/"
        },
        "id": "mR1HAikHQH7m",
        "outputId": "89be9344-292e-4ca5-ffd2-927cfa0ac785"
      },
      "source": [
        "l1_model_hist = l1_model.fit(x_train, y_train,\r\n",
        "                             epochs=20,\r\n",
        "                             batch_size=512,\r\n",
        "                             validation_data=(x_test, y_test))"
      ],
      "execution_count": 7,
      "outputs": [
        {
          "output_type": "stream",
          "text": [
            "Epoch 1/20\n",
            "49/49 [==============================] - 2s 34ms/step - loss: 0.6830 - acc: 0.7293 - val_loss: 0.4359 - val_acc: 0.8776\n",
            "Epoch 2/20\n",
            "49/49 [==============================] - 1s 22ms/step - loss: 0.3922 - acc: 0.8965 - val_loss: 0.3764 - val_acc: 0.8873\n",
            "Epoch 3/20\n",
            "49/49 [==============================] - 1s 22ms/step - loss: 0.3393 - acc: 0.9069 - val_loss: 0.3631 - val_acc: 0.8882\n",
            "Epoch 4/20\n",
            "49/49 [==============================] - 1s 22ms/step - loss: 0.3152 - acc: 0.9122 - val_loss: 0.3620 - val_acc: 0.8865\n",
            "Epoch 5/20\n",
            "49/49 [==============================] - 1s 22ms/step - loss: 0.3067 - acc: 0.9152 - val_loss: 0.3651 - val_acc: 0.8854\n",
            "Epoch 6/20\n",
            "49/49 [==============================] - 1s 22ms/step - loss: 0.2950 - acc: 0.9209 - val_loss: 0.3663 - val_acc: 0.8849\n",
            "Epoch 7/20\n",
            "49/49 [==============================] - 1s 22ms/step - loss: 0.2901 - acc: 0.9222 - val_loss: 0.3761 - val_acc: 0.8816\n",
            "Epoch 8/20\n",
            "49/49 [==============================] - 1s 22ms/step - loss: 0.2859 - acc: 0.9242 - val_loss: 0.3741 - val_acc: 0.8812\n",
            "Epoch 9/20\n",
            "49/49 [==============================] - 1s 22ms/step - loss: 0.2851 - acc: 0.9256 - val_loss: 0.3770 - val_acc: 0.8815\n",
            "Epoch 10/20\n",
            "49/49 [==============================] - 1s 22ms/step - loss: 0.2795 - acc: 0.9260 - val_loss: 0.3796 - val_acc: 0.8818\n",
            "Epoch 11/20\n",
            "49/49 [==============================] - 1s 22ms/step - loss: 0.2687 - acc: 0.9325 - val_loss: 0.3956 - val_acc: 0.8757\n",
            "Epoch 12/20\n",
            "49/49 [==============================] - 1s 22ms/step - loss: 0.2680 - acc: 0.9318 - val_loss: 0.4076 - val_acc: 0.8716\n",
            "Epoch 13/20\n",
            "49/49 [==============================] - 1s 22ms/step - loss: 0.2695 - acc: 0.9310 - val_loss: 0.4203 - val_acc: 0.8689\n",
            "Epoch 14/20\n",
            "49/49 [==============================] - 1s 22ms/step - loss: 0.2613 - acc: 0.9331 - val_loss: 0.3876 - val_acc: 0.8775\n",
            "Epoch 15/20\n",
            "49/49 [==============================] - 1s 22ms/step - loss: 0.2566 - acc: 0.9373 - val_loss: 0.3844 - val_acc: 0.8798\n",
            "Epoch 16/20\n",
            "49/49 [==============================] - 1s 22ms/step - loss: 0.2508 - acc: 0.9374 - val_loss: 0.3862 - val_acc: 0.8781\n",
            "Epoch 17/20\n",
            "49/49 [==============================] - 1s 22ms/step - loss: 0.2447 - acc: 0.9405 - val_loss: 0.4056 - val_acc: 0.8704\n",
            "Epoch 18/20\n",
            "49/49 [==============================] - 1s 23ms/step - loss: 0.2417 - acc: 0.9428 - val_loss: 0.4046 - val_acc: 0.8727\n",
            "Epoch 19/20\n",
            "49/49 [==============================] - 1s 22ms/step - loss: 0.2334 - acc: 0.9457 - val_loss: 0.3920 - val_acc: 0.8782\n",
            "Epoch 20/20\n",
            "49/49 [==============================] - 1s 21ms/step - loss: 0.2320 - acc: 0.9452 - val_loss: 0.4107 - val_acc: 0.8724\n"
          ],
          "name": "stdout"
        }
      ]
    },
    {
      "cell_type": "code",
      "metadata": {
        "colab": {
          "base_uri": "https://localhost:8080/",
          "height": 279
        },
        "id": "uY0IR794U45E",
        "outputId": "ad389f7c-1d1e-4906-fafe-a430eed30ab1"
      },
      "source": [
        "epochs = range(1,21)\r\n",
        "l1_model_val_loss = l1_model_hist.history['val_loss']\r\n",
        "\r\n",
        "import matplotlib.pyplot as plt\r\n",
        "\r\n",
        "plt.plot(epochs, original_val_loss, 'b+', label='Original model')\r\n",
        "plt.plot(epochs, l1_model_val_loss, 'bo', label='L1-regularized model')\r\n",
        "plt.xlabel('Epochs')\r\n",
        "plt.ylabel('Validation loss')\r\n",
        "plt.legend()\r\n",
        "plt.show()\r\n"
      ],
      "execution_count": 11,
      "outputs": [
        {
          "output_type": "display_data",
          "data": {
            "image/png": "[encoded data removed]",
            "text/plain": [
              "<Figure size 432x288 with 1 Axes>"
            ]
          },
          "metadata": {
            "tags": [],
            "needs_background": "light"
          }
        }
      ]
    },
    {
      "cell_type": "code",
      "metadata": {
        "id": "Z-gV1NQ5_gxh"
      },
      "source": [
        "# L1 과 L2 규제 병행\r\n",
        "2. l1_l2(l1=0.0001, l2=0.0001) 모델과 비교"
      ],
      "execution_count": null,
      "outputs": []
    },
    {
      "cell_type": "code",
      "metadata": {
        "id": "QAqAPPBR_hoF"
      },
      "source": [
        "l1_l2_model = models.Sequential()\r\n",
        "l1_l2_model.add(layers.Dense(16, kernel_regularizer=regularizers.l1_l2(l1=0.0001, l2=0.0001), \r\n",
        "                          activation='relu', input_shape=(10000,)))\r\n",
        "l1_l2_model.add(layers.Dense(16, kernel_regularizer=regularizers.l1_l2(l1=0.0001, l2=0.0001),\r\n",
        "                         activation='relu'))\r\n",
        "l1_l2_model.add(layers.Dense(1, activation='sigmoid'))\r\n",
        "l1_l2_model.compile(optimizer='rmsprop',\r\n",
        "                 loss='binary_crossentropy',\r\n",
        "                 metrics=['acc'])"
      ],
      "execution_count": 12,
      "outputs": []
    },
    {
      "cell_type": "code",
      "metadata": {
        "colab": {
          "base_uri": "https://localhost:8080/"
        },
        "id": "EUqozpHt_hr6",
        "outputId": "175ad633-8759-48a2-88df-477dc2559d85"
      },
      "source": [
        "l1_l2_model_hist = l1_l2_model.fit(x_train, y_train,\r\n",
        "                             epochs=20,\r\n",
        "                             batch_size=512,\r\n",
        "                             validation_data=(x_test, y_test))"
      ],
      "execution_count": 13,
      "outputs": [
        {
          "output_type": "stream",
          "text": [
            "Epoch 1/20\n",
            "49/49 [==============================] - 2s 30ms/step - loss: 0.6871 - acc: 0.7295 - val_loss: 0.4384 - val_acc: 0.8756\n",
            "Epoch 2/20\n",
            "49/49 [==============================] - 1s 22ms/step - loss: 0.3931 - acc: 0.8945 - val_loss: 0.3772 - val_acc: 0.8877\n",
            "Epoch 3/20\n",
            "49/49 [==============================] - 1s 23ms/step - loss: 0.3403 - acc: 0.9032 - val_loss: 0.3735 - val_acc: 0.8825\n",
            "Epoch 4/20\n",
            "49/49 [==============================] - 1s 22ms/step - loss: 0.3194 - acc: 0.9127 - val_loss: 0.3598 - val_acc: 0.8869\n",
            "Epoch 5/20\n",
            "49/49 [==============================] - 1s 22ms/step - loss: 0.3109 - acc: 0.9126 - val_loss: 0.3824 - val_acc: 0.8769\n",
            "Epoch 6/20\n",
            "49/49 [==============================] - 1s 23ms/step - loss: 0.3089 - acc: 0.9179 - val_loss: 0.3835 - val_acc: 0.8773\n",
            "Epoch 7/20\n",
            "49/49 [==============================] - 1s 22ms/step - loss: 0.2947 - acc: 0.9227 - val_loss: 0.3716 - val_acc: 0.8828\n",
            "Epoch 8/20\n",
            "49/49 [==============================] - 1s 23ms/step - loss: 0.2921 - acc: 0.9221 - val_loss: 0.4234 - val_acc: 0.8607\n",
            "Epoch 9/20\n",
            "49/49 [==============================] - 1s 22ms/step - loss: 0.2842 - acc: 0.9258 - val_loss: 0.3854 - val_acc: 0.8767\n",
            "Epoch 10/20\n",
            "49/49 [==============================] - 1s 22ms/step - loss: 0.2763 - acc: 0.9310 - val_loss: 0.3880 - val_acc: 0.8793\n",
            "Epoch 11/20\n",
            "49/49 [==============================] - 1s 22ms/step - loss: 0.2824 - acc: 0.9235 - val_loss: 0.3809 - val_acc: 0.8797\n",
            "Epoch 12/20\n",
            "49/49 [==============================] - 1s 22ms/step - loss: 0.2707 - acc: 0.9298 - val_loss: 0.3805 - val_acc: 0.8814\n",
            "Epoch 13/20\n",
            "49/49 [==============================] - 1s 22ms/step - loss: 0.2695 - acc: 0.9312 - val_loss: 0.3827 - val_acc: 0.8818\n",
            "Epoch 14/20\n",
            "49/49 [==============================] - 1s 22ms/step - loss: 0.2675 - acc: 0.9315 - val_loss: 0.4207 - val_acc: 0.8648\n",
            "Epoch 15/20\n",
            "49/49 [==============================] - 1s 22ms/step - loss: 0.2640 - acc: 0.9331 - val_loss: 0.3827 - val_acc: 0.8801\n",
            "Epoch 16/20\n",
            "49/49 [==============================] - 1s 22ms/step - loss: 0.2525 - acc: 0.9404 - val_loss: 0.3844 - val_acc: 0.8791\n",
            "Epoch 17/20\n",
            "49/49 [==============================] - 1s 22ms/step - loss: 0.2513 - acc: 0.9387 - val_loss: 0.3857 - val_acc: 0.8792\n",
            "Epoch 18/20\n",
            "49/49 [==============================] - 1s 22ms/step - loss: 0.2471 - acc: 0.9396 - val_loss: 0.3945 - val_acc: 0.8748\n",
            "Epoch 19/20\n",
            "49/49 [==============================] - 1s 22ms/step - loss: 0.2357 - acc: 0.9458 - val_loss: 0.3914 - val_acc: 0.8785\n",
            "Epoch 20/20\n",
            "49/49 [==============================] - 1s 22ms/step - loss: 0.2300 - acc: 0.9489 - val_loss: 0.3996 - val_acc: 0.8776\n"
          ],
          "name": "stdout"
        }
      ]
    },
    {
      "cell_type": "code",
      "metadata": {
        "colab": {
          "base_uri": "https://localhost:8080/",
          "height": 279
        },
        "id": "RS0E3QFT_g8d",
        "outputId": "ed6ec2e9-f971-4355-850b-08035230d3a9"
      },
      "source": [
        "epochs = range(1,21)\r\n",
        "l1_l2_model_val_loss = l1_l2_model_hist.history['val_loss']\r\n",
        "\r\n",
        "import matplotlib.pyplot as plt\r\n",
        "\r\n",
        "plt.plot(epochs, original_val_loss, 'b+', label='Original model')\r\n",
        "plt.plot(epochs, l1_model_val_loss, 'bo', label='L1L2-regularized model')\r\n",
        "plt.xlabel('Epochs')\r\n",
        "plt.ylabel('Validation loss')\r\n",
        "plt.legend()\r\n",
        "plt.show()\r\n"
      ],
      "execution_count": 14,
      "outputs": [
        {
          "output_type": "display_data",
          "data": {
            "image/png": "[encoded data removed]",
            "text/plain": [
              "<Figure size 432x288 with 1 Axes>"
            ]
          },
          "metadata": {
            "tags": [],
            "needs_background": "light"
          }
        }
      ]
    },
    {
      "cell_type": "markdown",
      "metadata": {
        "id": "BkTF4qjydJKi"
      },
      "source": [
        "# 드롭아웃 추가\r\n",
        "layer_output += np.random.randint(0, hight=2, size=layer_output.shape)\r\n",
        "- 드롭아웃은 토론토 대학의 제프리 힌튼과 그의 학생들이 개발\r\n",
        "- 네트워크의 층에 드롭아웃을 적용하면 훈련하는 동안 무작위로 층의 일부 출력 특성을 제외시킨다(0으로 만듭니다.)\r\n",
        "-"
      ]
    },
    {
      "cell_type": "code",
      "metadata": {
        "colab": {
          "base_uri": "https://localhost:8080/"
        },
        "id": "yw-_zVOYcV5C",
        "outputId": "f1fea47d-32cd-4d5e-d6c9-d25af1943a1b"
      },
      "source": [
        "dpt_model = models.Sequential()\r\n",
        "dpt_model.add(layers.Dense(16, activation='relu', input_shape=(10000,)))\r\n",
        "dpt_model.add(layers.Dropout(0.5))\r\n",
        "dpt_model.add(layers.Dense(16, activation='relu'))\r\n",
        "dpt_model.add(layers.Dropout(0.5))\r\n",
        "dpt_model.add(layers.Dense(1, activation='sigmoid'))\r\n",
        "\r\n",
        "dpt_model.compile(optimizer='rmsprop',\r\n",
        "                  loss='binary_crossentropy',\r\n",
        "                  metrics=['acc'])\r\n",
        "\r\n",
        "dpt_model_hist = dpt_model.fit(x_train, y_train,\r\n",
        "                               epochs=20,\r\n",
        "                               batch_size=512,\r\n",
        "                               validation_data=(x_test, y_test))"
      ],
      "execution_count": 16,
      "outputs": [
        {
          "output_type": "stream",
          "text": [
            "Epoch 1/20\n",
            "49/49 [==============================] - 2s 29ms/step - loss: 0.6417 - acc: 0.6108 - val_loss: 0.4462 - val_acc: 0.8566\n",
            "Epoch 2/20\n",
            "49/49 [==============================] - 1s 22ms/step - loss: 0.4734 - acc: 0.7879 - val_loss: 0.3418 - val_acc: 0.8802\n",
            "Epoch 3/20\n",
            "49/49 [==============================] - 1s 22ms/step - loss: 0.3754 - acc: 0.8492 - val_loss: 0.2991 - val_acc: 0.8870\n",
            "Epoch 4/20\n",
            "49/49 [==============================] - 1s 22ms/step - loss: 0.3225 - acc: 0.8805 - val_loss: 0.2797 - val_acc: 0.8896\n",
            "Epoch 5/20\n",
            "49/49 [==============================] - 1s 22ms/step - loss: 0.2850 - acc: 0.9007 - val_loss: 0.2804 - val_acc: 0.8899\n",
            "Epoch 6/20\n",
            "49/49 [==============================] - 1s 22ms/step - loss: 0.2509 - acc: 0.9134 - val_loss: 0.2879 - val_acc: 0.8851\n",
            "Epoch 7/20\n",
            "49/49 [==============================] - 1s 22ms/step - loss: 0.2223 - acc: 0.9269 - val_loss: 0.2950 - val_acc: 0.8860\n",
            "Epoch 8/20\n",
            "49/49 [==============================] - 1s 22ms/step - loss: 0.2077 - acc: 0.9310 - val_loss: 0.3152 - val_acc: 0.8858\n",
            "Epoch 9/20\n",
            "49/49 [==============================] - 1s 22ms/step - loss: 0.1864 - acc: 0.9396 - val_loss: 0.3263 - val_acc: 0.8832\n",
            "Epoch 10/20\n",
            "49/49 [==============================] - 1s 23ms/step - loss: 0.1769 - acc: 0.9420 - val_loss: 0.3510 - val_acc: 0.8843\n",
            "Epoch 11/20\n",
            "49/49 [==============================] - 1s 22ms/step - loss: 0.1659 - acc: 0.9430 - val_loss: 0.3848 - val_acc: 0.8812\n",
            "Epoch 12/20\n",
            "49/49 [==============================] - 1s 22ms/step - loss: 0.1522 - acc: 0.9484 - val_loss: 0.3987 - val_acc: 0.8734\n",
            "Epoch 13/20\n",
            "49/49 [==============================] - 1s 22ms/step - loss: 0.1396 - acc: 0.9518 - val_loss: 0.4326 - val_acc: 0.8774\n",
            "Epoch 14/20\n",
            "49/49 [==============================] - 1s 22ms/step - loss: 0.1408 - acc: 0.9516 - val_loss: 0.4383 - val_acc: 0.8752\n",
            "Epoch 15/20\n",
            "49/49 [==============================] - 1s 21ms/step - loss: 0.1352 - acc: 0.9533 - val_loss: 0.4560 - val_acc: 0.8748\n",
            "Epoch 16/20\n",
            "49/49 [==============================] - 1s 21ms/step - loss: 0.1341 - acc: 0.9540 - val_loss: 0.4840 - val_acc: 0.8696\n",
            "Epoch 17/20\n",
            "49/49 [==============================] - 1s 22ms/step - loss: 0.1336 - acc: 0.9565 - val_loss: 0.5169 - val_acc: 0.8742\n",
            "Epoch 18/20\n",
            "49/49 [==============================] - 1s 22ms/step - loss: 0.1260 - acc: 0.9571 - val_loss: 0.5219 - val_acc: 0.8724\n",
            "Epoch 19/20\n",
            "49/49 [==============================] - 1s 22ms/step - loss: 0.1162 - acc: 0.9608 - val_loss: 0.5515 - val_acc: 0.8727\n",
            "Epoch 20/20\n",
            "49/49 [==============================] - 1s 22ms/step - loss: 0.1211 - acc: 0.9568 - val_loss: 0.5466 - val_acc: 0.8703\n"
          ],
          "name": "stdout"
        }
      ]
    },
    {
      "cell_type": "code",
      "metadata": {
        "colab": {
          "base_uri": "https://localhost:8080/",
          "height": 279
        },
        "id": "hHgMV6vvcWAZ",
        "outputId": "e2f7b1bd-0d5c-49da-a3ec-de3dbe806c6e"
      },
      "source": [
        "epochs = range(1,21)\r\n",
        "dpt_model_val_loss = dpt_model_hist.history['val_loss']\r\n",
        "\r\n",
        "import matplotlib.pyplot as plt\r\n",
        "\r\n",
        "plt.plot(epochs, original_val_loss, 'b+', label='Original model')\r\n",
        "plt.plot(epochs, dpt_model_val_loss, 'bo', label='Dropout model')\r\n",
        "plt.xlabel('Epochs')\r\n",
        "plt.ylabel('Dropout loss')\r\n",
        "plt.legend()\r\n",
        "plt.show()"
      ],
      "execution_count": 17,
      "outputs": [
        {
          "output_type": "display_data",
          "data": {
            "image/png": "[encoded data removed]",
            "text/plain": [
              "<Figure size 432x288 with 1 Axes>"
            ]
          },
          "metadata": {
            "tags": [],
            "needs_background": "light"
          }
        }
      ]
    }
  ]
}