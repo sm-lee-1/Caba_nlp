{
  "nbformat": 4,
  "nbformat_minor": 0,
  "metadata": {
    "colab": {
      "name": "Colab 구독 최대한 활용하기",
      "provenance": [],
      "collapsed_sections": [],
      "include_colab_link": true
    },
    "kernelspec": {
      "display_name": "Python 3",
      "name": "python3"
    }
  },
  "cells": [
    {
      "cell_type": "markdown",
      "metadata": {
        "id": "view-in-github",
        "colab_type": "text"
      },
      "source": [
        "<a href=\"https://colab.research.google.com/github/sm-lee-1/Caba_nlp/blob/main/Colab_%EA%B5%AC%EB%8F%85_%EC%B5%9C%EB%8C%80%ED%95%9C_%ED%99%9C%EC%9A%A9%ED%95%98%EA%B8%B0.ipynb\" target=\"_parent\"><img src=\"https://colab.research.google.com/assets/colab-badge.svg\" alt=\"Open In Colab\"/></a>"
      ]
    },
    {
      "cell_type": "markdown",
      "metadata": {
        "id": "SKQ4bH7qMGrA"
      },
      "source": [
        "# Colab 구독 최대한 활용하기\n",
        "\n"
      ]
    },
    {
      "cell_type": "markdown",
      "metadata": {
        "id": "QMMqmdiYMkvi"
      },
      "source": [
        "## 더 빠른 GPU\n",
        "\n",
        "Colab Pro를 사용하여 가장 빠른 GPU에 우선적으로 액세스하세요. 예를 들어 대부분의 표준 Colab 사용자가 속도가 느린 K80 GPU를 수신할 때 Colab Pro 사용자는 T4 또는 P100 GPU를 이용할 수 있습니다. 언제든지 다음 셀을 실행하여 할당된 GPU를 확인할 수 있습니다."
      ]
    },
    {
      "cell_type": "code",
      "metadata": {
        "colab": {
          "base_uri": "https://localhost:8080/"
        },
        "id": "23TOba33L4qf",
        "outputId": "42c793c0-856b-4981-d050-1817ec6aff2b"
      },
      "source": [
        "gpu_info = !nvidia-smi\n",
        "gpu_info = '\\n'.join(gpu_info)\n",
        "if gpu_info.find('failed') >= 0:\n",
        "  print('Select the Runtime > \"Change runtime type\" menu to enable a GPU accelerator, ')\n",
        "  print('and then re-execute this cell.')\n",
        "else:\n",
        "  print(gpu_info)"
      ],
      "execution_count": 1,
      "outputs": [
        {
          "output_type": "stream",
          "text": [
            "Select the Runtime > \"Change runtime type\" menu to enable a GPU accelerator, \n",
            "and then re-execute this cell.\n"
          ],
          "name": "stdout"
        }
      ]
    },
    {
      "cell_type": "markdown",
      "metadata": {
        "id": "Sa-IrJS1aRVJ"
      },
      "source": [
        "메모장에서 GPU를 사용하려면 런타임 &#62; 런타임 유형 변경 메뉴를 선택한 다음 하드웨어 가속기 드롭다운을 GPU로 설정하세요."
      ]
    },
    {
      "cell_type": "markdown",
      "metadata": {
        "id": "65MSuHKqNeBZ"
      },
      "source": [
        "## 추가 메모리\n",
        "\n",
        "<p>Colab Pro를 구독하면 사용 가능한 경우 고용량 메모리 VM에 액세스할 수 있습니다. 고용량 메모리 런타임을 사용하도록 메모장 환경설정을 지정하려면 런타임 &#62; '런타임 유형 변경' 메뉴를 선택한 다음 런타임 구성 드롭다운에서 고용량 RAM을 선택하세요.</p>\n",
        "<p>다음 코드를 실행하여 언제든지 사용 가능한 메모리 용량을 확인할 수 있습니다.</p>"
      ]
    },
    {
      "cell_type": "code",
      "metadata": {
        "id": "V1G82GuO-tez"
      },
      "source": [
        "from psutil import virtual_memory\n",
        "ram_gb = virtual_memory().total / 1e9\n",
        "print('Your runtime has {:.1f} gigabytes of available RAM\\n'.format(ram_gb))\n",
        "\n",
        "if ram_gb < 20:\n",
        "  print('To enable a high-RAM runtime, select the Runtime > \"Change runtime type\"')\n",
        "  print('menu, and then select High-RAM in the Runtime shape dropdown. Then, ')\n",
        "  print('re-execute this cell.')\n",
        "else:\n",
        "  print('You are using a high-RAM runtime!')"
      ],
      "execution_count": null,
      "outputs": []
    },
    {
      "cell_type": "markdown",
      "metadata": {
        "id": "BJW8Qi-pPpep"
      },
      "source": [
        "## 더 긴 런타임\n",
        "\n",
        "일정 시간이 지나면 모든 Colab 런타임이 재설정됩니다&#40;런타임에서 코드를 실행하지 않는 경우 더 빠른 방식&#41;. Colab Pro 구독자에게도 한도가 적용되지만 비구독자보다 약 2배 더 긴 런타임을 이용할 수 있습니다."
      ]
    },
    {
      "cell_type": "markdown",
      "metadata": {
        "id": "uLlTRcMM_h0k"
      },
      "source": [
        "## Colab Pro의 리소스 한도\n",
        "\n",
        "Colab Pro에서 제공되는 리소스는 무제한이 아닙니다. Colab Pro를 최대한 활용하려면 필요하지 않은 리소스를 사용하지 않아야 합니다. 예를 들어, GPU 또는 고용량 RAM 런타임은 필요할 때만 사용하고 작업을 마치면 Colab 탭을 닫으세요.\n"
      ]
    },
    {
      "cell_type": "markdown",
      "metadata": {
        "id": "mm8FzEidvPs6"
      },
      "source": [
        "## 의견을 보내주세요\n",
        "\n",
        "<p>의견이 있으면 Google에 보내주세요. 도움말 &gt; '의견 보내기...' 메뉴를 사용하여 간편하게 의견을 제출할 수 있습니다. Colab Pro에서 사용량 한도에 도달했으며 사용량 한도가 더 높은 제품에 관심이 있다면 언제든지 알려주세요.</p>\n",
        "<p>오류 또는 Colab Pro의 청구&#40;결제&#41; 관련 문제가 있는 경우 <a href=\"mailto:colab-billing@google.com\">colab-billing@google.com</a>으로 이메일을 보내주세요.</p>"
      ]
    }
  ]
}