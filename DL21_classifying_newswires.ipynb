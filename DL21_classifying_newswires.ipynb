{
  "nbformat": 4,
  "nbformat_minor": 0,
  "metadata": {
    "colab": {
      "name": "DL21_classifying-newswires.ipynb",
      "provenance": [],
      "collapsed_sections": [],
      "authorship_tag": "ABX9TyNrz6nvrPrfbKSlzR1zFe+Q",
      "include_colab_link": true
    },
    "kernelspec": {
      "name": "python3",
      "display_name": "Python 3"
    },
    "accelerator": "GPU"
  },
  "cells": [
    {
      "cell_type": "markdown",
      "metadata": {
        "id": "view-in-github",
        "colab_type": "text"
      },
      "source": [
        "<a href=\"https://colab.research.google.com/github/sm-lee-1/Caba_nlp/blob/main/DL21_classifying_newswires.ipynb\" target=\"_parent\"><img src=\"https://colab.research.google.com/assets/colab-badge.svg\" alt=\"Open In Colab\"/></a>"
      ]
    },
    {
      "cell_type": "markdown",
      "metadata": {
        "id": "1gX2nMeZTq63"
      },
      "source": [
        "## 로이터 데이터셋\r\n",
        "\r\n",
        "1986년에 로이터에서 공개한 짧은 뉴스 기사와 토픽의 집합인 로이터 데이터셋을 사용하겠습니다. 이 데이터셋은 텍스트 분류를 위해 널리 사용되는 간단한 데이터셋입니다. 46개의 토픽이 있으며 어떤 토픽은 다른 것에 비해 데이터가 많습니다. 각 토픽은 훈련 세트에 최소한 10개의 샘플을 가지고 있습니다."
      ]
    },
    {
      "cell_type": "code",
      "metadata": {
        "colab": {
          "base_uri": "https://localhost:8080/"
        },
        "id": "nwhTbR9uTPzY",
        "outputId": "0fe2776d-37e3-4060-d853-59f59e9d21da"
      },
      "source": [
        "from keras.datasets import reuters\r\n",
        "(train_data,train_labels),(test_data,test_labels) = reuters.load_data(num_words=10000)"
      ],
      "execution_count": 1,
      "outputs": [
        {
          "output_type": "stream",
          "text": [
            "Downloading data from https://storage.googleapis.com/tensorflow/tf-keras-datasets/reuters.npz\n",
            "2113536/2110848 [==============================] - 0s 0us/step\n"
          ],
          "name": "stdout"
        },
        {
          "output_type": "stream",
          "text": [
            "/usr/local/lib/python3.7/dist-packages/tensorflow/python/keras/datasets/reuters.py:148: VisibleDeprecationWarning: Creating an ndarray from ragged nested sequences (which is a list-or-tuple of lists-or-tuples-or ndarrays with different lengths or shapes) is deprecated. If you meant to do this, you must specify 'dtype=object' when creating the ndarray\n",
            "  x_train, y_train = np.array(xs[:idx]), np.array(labels[:idx])\n",
            "/usr/local/lib/python3.7/dist-packages/tensorflow/python/keras/datasets/reuters.py:149: VisibleDeprecationWarning: Creating an ndarray from ragged nested sequences (which is a list-or-tuple of lists-or-tuples-or ndarrays with different lengths or shapes) is deprecated. If you meant to do this, you must specify 'dtype=object' when creating the ndarray\n",
            "  x_test, y_test = np.array(xs[idx:]), np.array(labels[idx:])\n"
          ],
          "name": "stderr"
        }
      ]
    },
    {
      "cell_type": "code",
      "metadata": {
        "colab": {
          "base_uri": "https://localhost:8080/"
        },
        "id": "0mZNEEmhTgu_",
        "outputId": "e173400c-db76-4a7e-85aa-1823c49597cd"
      },
      "source": [
        "len(train_data)"
      ],
      "execution_count": null,
      "outputs": [
        {
          "output_type": "execute_result",
          "data": {
            "text/plain": [
              "8982"
            ]
          },
          "metadata": {
            "tags": []
          },
          "execution_count": 3
        }
      ]
    },
    {
      "cell_type": "code",
      "metadata": {
        "colab": {
          "base_uri": "https://localhost:8080/"
        },
        "id": "R14so8vVTgyz",
        "outputId": "6043287f-6330-4dbc-ec3a-dc7574753960"
      },
      "source": [
        "len(test_data)"
      ],
      "execution_count": null,
      "outputs": [
        {
          "output_type": "execute_result",
          "data": {
            "text/plain": [
              "2246"
            ]
          },
          "metadata": {
            "tags": []
          },
          "execution_count": 4
        }
      ]
    },
    {
      "cell_type": "code",
      "metadata": {
        "colab": {
          "base_uri": "https://localhost:8080/"
        },
        "id": "SEMAsP3gTg2C",
        "outputId": "712c8c46-e550-4724-f5ba-8600b984d4b2"
      },
      "source": [
        "train_data[:5]"
      ],
      "execution_count": null,
      "outputs": [
        {
          "output_type": "execute_result",
          "data": {
            "text/plain": [
              "array([list([1, 2, 2, 8, 43, 10, 447, 5, 25, 207, 270, 5, 3095, 111, 16, 369, 186, 90, 67, 7, 89, 5, 19, 102, 6, 19, 124, 15, 90, 67, 84, 22, 482, 26, 7, 48, 4, 49, 8, 864, 39, 209, 154, 6, 151, 6, 83, 11, 15, 22, 155, 11, 15, 7, 48, 9, 4579, 1005, 504, 6, 258, 6, 272, 11, 15, 22, 134, 44, 11, 15, 16, 8, 197, 1245, 90, 67, 52, 29, 209, 30, 32, 132, 6, 109, 15, 17, 12]),\n",
              "       list([1, 3267, 699, 3434, 2295, 56, 2, 7511, 9, 56, 3906, 1073, 81, 5, 1198, 57, 366, 737, 132, 20, 4093, 7, 2, 49, 2295, 2, 1037, 3267, 699, 3434, 8, 7, 10, 241, 16, 855, 129, 231, 783, 5, 4, 587, 2295, 2, 2, 775, 7, 48, 34, 191, 44, 35, 1795, 505, 17, 12]),\n",
              "       list([1, 53, 12, 284, 15, 14, 272, 26, 53, 959, 32, 818, 15, 14, 272, 26, 39, 684, 70, 11, 14, 12, 3886, 18, 180, 183, 187, 70, 11, 14, 102, 32, 11, 29, 53, 44, 704, 15, 14, 19, 758, 15, 53, 959, 47, 1013, 15, 14, 19, 132, 15, 39, 965, 32, 11, 14, 147, 72, 11, 180, 183, 187, 44, 11, 14, 102, 19, 11, 123, 186, 90, 67, 960, 4, 78, 13, 68, 467, 511, 110, 59, 89, 90, 67, 1390, 55, 2678, 92, 617, 80, 1274, 46, 905, 220, 13, 4, 346, 48, 235, 629, 5, 211, 5, 1118, 7, 2, 81, 5, 187, 11, 15, 9, 1709, 201, 5, 47, 3615, 18, 478, 4514, 5, 1118, 7, 232, 2, 71, 5, 160, 63, 11, 9, 2, 81, 5, 102, 59, 11, 17, 12]),\n",
              "       list([1, 4, 686, 867, 558, 4, 37, 38, 309, 2276, 465, 893, 3541, 114, 2902, 69, 312, 35, 15, 7, 335, 1679, 21, 25, 3675, 2, 3498, 58, 69, 68, 493, 5, 25, 465, 377, 2430, 4, 293, 1172, 739, 4379, 8, 7, 1510, 1131, 13, 899, 6, 4, 990, 309, 415, 4519, 6920, 645, 3916, 791, 5, 4379, 75, 8, 24, 10, 1311, 4677, 5, 344, 756, 7, 2, 231, 9691, 2603, 1413, 43, 509, 43, 68, 327, 5, 2, 3498, 297, 638, 73, 430, 22, 4, 580, 7, 48, 41, 30, 2, 136, 4, 344, 298, 4, 580, 40, 344, 5078, 2, 291, 1488, 10, 3148, 5, 231, 6250, 1308, 5, 8250, 7043, 21, 2, 1622, 990, 309, 415, 265, 5992, 8945, 1149, 9118, 2, 4, 344, 9691, 756, 3729, 2, 4667, 2, 3249, 28, 10, 2190, 24, 77, 41, 682, 10, 4851, 2048, 7, 4, 5540, 2926, 1598, 22, 370, 5954, 7541, 5, 54, 5232, 1685, 2916, 10, 1571, 946, 60, 51, 3249, 5249, 4, 73, 2135, 669, 4, 580, 64, 10, 4280, 6, 2, 25, 482, 35, 150, 377, 2430, 7, 10, 2, 836, 2, 4730, 6920, 5, 4379, 2, 2, 3541, 8, 4, 344, 291, 2, 298, 4228, 6, 2223, 24, 2, 41, 343, 430, 210, 6, 3498, 297, 64, 10, 2281, 455, 5, 7003, 125, 222, 17, 12]),\n",
              "       list([1, 8295, 111, 8, 25, 166, 40, 638, 10, 436, 22, 265, 9, 621, 575, 1080, 4742, 1149, 2, 6, 438, 8295, 13, 102, 388, 15, 90, 67, 7, 197, 8295, 8, 4, 270, 416, 23, 527, 6, 2, 4891, 4, 1055, 742, 16, 8, 36, 1480, 6, 2124, 100, 543, 5, 645, 362, 6, 2912, 4, 49, 8, 2, 976, 124, 20, 5, 8295, 80, 9, 100, 362, 543, 395, 61, 44, 20, 8295, 8, 16, 40, 1276, 42, 1436, 166, 415, 6, 888, 4, 116, 9, 40, 3089, 4, 303, 163, 16, 64, 772, 13, 94, 156, 17, 12])],\n",
              "      dtype=object)"
            ]
          },
          "metadata": {
            "tags": []
          },
          "execution_count": 5
        }
      ]
    },
    {
      "cell_type": "code",
      "metadata": {
        "colab": {
          "base_uri": "https://localhost:8080/"
        },
        "id": "RynZhzdqUl8o",
        "outputId": "457c56d1-d6bb-4082-be7a-827366af7c98"
      },
      "source": [
        "train_labels[:5]"
      ],
      "execution_count": null,
      "outputs": [
        {
          "output_type": "execute_result",
          "data": {
            "text/plain": [
              "array([3, 4, 3, 4, 4])"
            ]
          },
          "metadata": {
            "tags": []
          },
          "execution_count": 5
        }
      ]
    },
    {
      "cell_type": "code",
      "metadata": {
        "id": "5Sqm7uDcUl_3"
      },
      "source": [
        "import numpy as np\r\n",
        "\r\n",
        "def vectorize_sequences(sequences, dimension=10000):\r\n",
        "  results = np.zeros((len(sequences), dimension))\r\n",
        "  for i, sequence in enumerate(sequences):\r\n",
        "    results[i,sequence] = 1.\r\n",
        "  return results\r\n",
        "\r\n",
        "x_train = vectorize_sequences(train_data)\r\n",
        "x_test = vectorize_sequences(test_data)    "
      ],
      "execution_count": 2,
      "outputs": []
    },
    {
      "cell_type": "code",
      "metadata": {
        "colab": {
          "base_uri": "https://localhost:8080/"
        },
        "id": "0JQ3JAlEUmDH",
        "outputId": "9dc0f2cd-5509-47fa-f6d1-eb1c1998b251"
      },
      "source": [
        "x_train.shape"
      ],
      "execution_count": null,
      "outputs": [
        {
          "output_type": "execute_result",
          "data": {
            "text/plain": [
              "(8982, 10000)"
            ]
          },
          "metadata": {
            "tags": []
          },
          "execution_count": 7
        }
      ]
    },
    {
      "cell_type": "code",
      "metadata": {
        "colab": {
          "base_uri": "https://localhost:8080/"
        },
        "id": "UbCHjTBDUmGo",
        "outputId": "f0777c84-8982-4d10-9066-882700faff10"
      },
      "source": [
        "x_train[:5]"
      ],
      "execution_count": null,
      "outputs": [
        {
          "output_type": "execute_result",
          "data": {
            "text/plain": [
              "array([[0., 1., 1., ..., 0., 0., 0.],\n",
              "       [0., 1., 1., ..., 0., 0., 0.],\n",
              "       [0., 1., 1., ..., 0., 0., 0.],\n",
              "       [0., 1., 1., ..., 0., 0., 0.],\n",
              "       [0., 1., 1., ..., 0., 0., 0.]])"
            ]
          },
          "metadata": {
            "tags": []
          },
          "execution_count": 8
        }
      ]
    },
    {
      "cell_type": "code",
      "metadata": {
        "id": "o9PXnCvWTg9S"
      },
      "source": [
        "# 레이블의 원-핫 인코딩은 닫 레이블의 인덱스 자리는 1이고 나머지는 모두 0인 벡터\r\n",
        "# 사용자 함수\r\n",
        "def to_one_hot(labels, dimension=46):\r\n",
        "  results = np.zeros((len(labels), dimension))\r\n",
        "  for i, label in enumerate(labels):\r\n",
        "    results[i,label] = 1.\r\n",
        "  return results\r\n",
        "\r\n",
        "one_hot_train_labels = to_one_hot(train_labels)\r\n",
        "one_hot_test_labels = to_one_hot(test_labels)    "
      ],
      "execution_count": 3,
      "outputs": []
    },
    {
      "cell_type": "code",
      "metadata": {
        "id": "XQHS0vimXEyo"
      },
      "source": [
        "# 내장 함수\r\n",
        "from keras.utils.np_utils import to_categorical\r\n",
        "\r\n",
        "one_hot_train_labels = to_categorical(train_labels)\r\n",
        "one_hot_test_labels = to_categorical(test_labels)"
      ],
      "execution_count": 4,
      "outputs": []
    },
    {
      "cell_type": "code",
      "metadata": {
        "id": "qQYA-OCIXE76"
      },
      "source": [
        "from keras import models\r\n",
        "from keras import layers\r\n",
        "\r\n",
        "model = models.Sequential()\r\n",
        "model.add(layers.Dense(64, activation='relu', input_shape=(10000,)))\r\n",
        "model.add(layers.Dense(64, activation='relu'))\r\n",
        "model.add(layers.Dense(46, activation='softmax'))"
      ],
      "execution_count": 5,
      "outputs": []
    },
    {
      "cell_type": "code",
      "metadata": {
        "id": "TYat1rIpXE_r"
      },
      "source": [
        "model.compile(optimizer='rmsprop',\r\n",
        "             loss='categorical_crossentropy',\r\n",
        "             metrics=['accuracy'])"
      ],
      "execution_count": 6,
      "outputs": []
    },
    {
      "cell_type": "code",
      "metadata": {
        "id": "utN9UwrRXFDc"
      },
      "source": [
        "x_val = x_train[:1000]\r\n",
        "partial_x_train = x_train[1000:]\r\n",
        "y_val = one_hot_train_labels[:1000]\r\n",
        "partial_y_train = one_hot_train_labels[1000:]"
      ],
      "execution_count": 7,
      "outputs": []
    },
    {
      "cell_type": "code",
      "metadata": {
        "colab": {
          "base_uri": "https://localhost:8080/"
        },
        "id": "u13Vr6rnXFG7",
        "outputId": "f72b80ec-20bb-4fe2-e7b2-089e2c93e5c3"
      },
      "source": [
        "history = model.fit(partial_x_train,\r\n",
        "                    partial_y_train,\r\n",
        "                    epochs=20,\r\n",
        "                    batch_size=512,\r\n",
        "                    validation_data=(x_val, y_val))"
      ],
      "execution_count": 8,
      "outputs": [
        {
          "output_type": "stream",
          "text": [
            "Epoch 1/20\n",
            "16/16 [==============================] - 4s 41ms/step - loss: 3.1610 - accuracy: 0.3910 - val_loss: 1.7469 - val_accuracy: 0.6440\n",
            "Epoch 2/20\n",
            "16/16 [==============================] - 0s 15ms/step - loss: 1.5229 - accuracy: 0.6950 - val_loss: 1.2928 - val_accuracy: 0.7220\n",
            "Epoch 3/20\n",
            "16/16 [==============================] - 0s 15ms/step - loss: 1.1069 - accuracy: 0.7681 - val_loss: 1.1302 - val_accuracy: 0.7530\n",
            "Epoch 4/20\n",
            "16/16 [==============================] - 0s 15ms/step - loss: 0.8523 - accuracy: 0.8156 - val_loss: 1.0325 - val_accuracy: 0.7770\n",
            "Epoch 5/20\n",
            "16/16 [==============================] - 0s 14ms/step - loss: 0.6845 - accuracy: 0.8531 - val_loss: 0.9812 - val_accuracy: 0.7980\n",
            "Epoch 6/20\n",
            "16/16 [==============================] - 0s 15ms/step - loss: 0.5361 - accuracy: 0.8908 - val_loss: 0.9483 - val_accuracy: 0.8020\n",
            "Epoch 7/20\n",
            "16/16 [==============================] - 0s 15ms/step - loss: 0.4175 - accuracy: 0.9125 - val_loss: 0.9214 - val_accuracy: 0.8030\n",
            "Epoch 8/20\n",
            "16/16 [==============================] - 0s 15ms/step - loss: 0.3525 - accuracy: 0.9238 - val_loss: 0.9103 - val_accuracy: 0.8150\n",
            "Epoch 9/20\n",
            "16/16 [==============================] - 0s 15ms/step - loss: 0.2895 - accuracy: 0.9380 - val_loss: 0.9315 - val_accuracy: 0.8130\n",
            "Epoch 10/20\n",
            "16/16 [==============================] - 0s 15ms/step - loss: 0.2266 - accuracy: 0.9515 - val_loss: 0.9426 - val_accuracy: 0.8180\n",
            "Epoch 11/20\n",
            "16/16 [==============================] - 0s 15ms/step - loss: 0.2037 - accuracy: 0.9494 - val_loss: 0.9649 - val_accuracy: 0.8100\n",
            "Epoch 12/20\n",
            "16/16 [==============================] - 0s 16ms/step - loss: 0.1671 - accuracy: 0.9557 - val_loss: 1.0597 - val_accuracy: 0.7930\n",
            "Epoch 13/20\n",
            "16/16 [==============================] - 0s 16ms/step - loss: 0.1723 - accuracy: 0.9532 - val_loss: 1.0126 - val_accuracy: 0.8060\n",
            "Epoch 14/20\n",
            "16/16 [==============================] - 0s 15ms/step - loss: 0.1355 - accuracy: 0.9619 - val_loss: 1.0302 - val_accuracy: 0.8060\n",
            "Epoch 15/20\n",
            "16/16 [==============================] - 0s 15ms/step - loss: 0.1371 - accuracy: 0.9593 - val_loss: 1.0305 - val_accuracy: 0.8030\n",
            "Epoch 16/20\n",
            "16/16 [==============================] - 0s 15ms/step - loss: 0.1236 - accuracy: 0.9627 - val_loss: 1.0291 - val_accuracy: 0.8100\n",
            "Epoch 17/20\n",
            "16/16 [==============================] - 0s 15ms/step - loss: 0.1211 - accuracy: 0.9595 - val_loss: 1.0737 - val_accuracy: 0.8090\n",
            "Epoch 18/20\n",
            "16/16 [==============================] - 0s 15ms/step - loss: 0.1144 - accuracy: 0.9604 - val_loss: 1.0767 - val_accuracy: 0.8080\n",
            "Epoch 19/20\n",
            "16/16 [==============================] - 0s 15ms/step - loss: 0.1125 - accuracy: 0.9594 - val_loss: 1.1692 - val_accuracy: 0.7900\n",
            "Epoch 20/20\n",
            "16/16 [==============================] - 0s 15ms/step - loss: 0.1017 - accuracy: 0.9593 - val_loss: 1.1250 - val_accuracy: 0.8000\n"
          ],
          "name": "stdout"
        }
      ]
    },
    {
      "cell_type": "code",
      "metadata": {
        "colab": {
          "base_uri": "https://localhost:8080/",
          "height": 295
        },
        "id": "sOEPxmAZtYGP",
        "outputId": "d2477bd1-67f1-459b-b897-3bdb59f4e4a6"
      },
      "source": [
        "import matplotlib.pyplot as plt\r\n",
        "\r\n",
        "loss = history.history['loss']\r\n",
        "val_loss = history.history['val_loss']\r\n",
        "\r\n",
        "epochs = range(1, len(loss) + 1)\r\n",
        "\r\n",
        "plt.plot(epochs, loss, 'bo', label='Train loss')\r\n",
        "plt.plot(epochs, val_loss, 'b', label='Validation loss')\r\n",
        "plt.title('Training and validation loss')\r\n",
        "plt.xlabel('Epochs')\r\n",
        "plt.ylabel('Loss')\r\n",
        "plt.legend()\r\n",
        "plt.show()"
      ],
      "execution_count": 10,
      "outputs": [
        {
          "output_type": "display_data",
          "data": {
            "image/png": "[encoded data removed]",
            "text/plain": [
              "<Figure size 432x288 with 1 Axes>"
            ]
          },
          "metadata": {
            "tags": [],
            "needs_background": "light"
          }
        }
      ]
    },
    {
      "cell_type": "code",
      "metadata": {
        "colab": {
          "base_uri": "https://localhost:8080/",
          "height": 295
        },
        "id": "d6RBrqmctYM-",
        "outputId": "169ccda3-ed3f-4492-df17-8a34c744d5d7"
      },
      "source": [
        "plt.clf()\r\n",
        "history_dict = history.history\r\n",
        "\r\n",
        "acc = history_dict['accuracy']\r\n",
        "val_acc = history_dict['val_accuracy']\r\n",
        "\r\n",
        "plt.plot(epochs, acc, 'bo', label='Train acc')\r\n",
        "plt.plot(epochs, val_acc, 'b', label='Validation acc')\r\n",
        "plt.title('Training and validation accuracy')\r\n",
        "plt.xlabel('Epochs')\r\n",
        "plt.ylabel('Accuracy')\r\n",
        "plt.legend()\r\n",
        "plt.show()"
      ],
      "execution_count": 12,
      "outputs": [
        {
          "output_type": "display_data",
          "data": {
            "image/png": "[encoded data removed]",
            "text/plain": [
              "<Figure size 432x288 with 1 Axes>"
            ]
          },
          "metadata": {
            "tags": [],
            "needs_background": "light"
          }
        }
      ]
    },
    {
      "cell_type": "code",
      "metadata": {
        "id": "np40qFkWtYQz"
      },
      "source": [
        "from keras import models \r\n",
        "from keras import layers\r\n",
        "\r\n",
        "model = models.Sequential()\r\n",
        "model.add(layers.Dense(64, activation='relu', input_shape=(10000,)))\r\n",
        "model.add(layers.Dense(64, activation='relu'))\r\n",
        "model.add(layers.Dense(46, activation='softmax'))"
      ],
      "execution_count": 13,
      "outputs": []
    },
    {
      "cell_type": "code",
      "metadata": {
        "id": "c8CeaIvatYZp"
      },
      "source": [
        "model.compile(optimizer='rmsprop',\r\n",
        "             loss='categorical_crossentropy',\r\n",
        "             metrics=['accuracy'])"
      ],
      "execution_count": 14,
      "outputs": []
    },
    {
      "cell_type": "code",
      "metadata": {
        "colab": {
          "base_uri": "https://localhost:8080/"
        },
        "id": "v8tOV1blxKZU",
        "outputId": "15cda84a-58ab-45e5-dffa-bd35f912ed2c"
      },
      "source": [
        "model.fit(partial_x_train,\r\n",
        "          partial_y_train, \r\n",
        "          epochs=9, \r\n",
        "          batch_size=512,\r\n",
        "          validation_data=(x_val, y_val))\r\n",
        "results = model.evaluate(x_test, one_hot_test_labels)"
      ],
      "execution_count": 16,
      "outputs": [
        {
          "output_type": "stream",
          "text": [
            "Epoch 1/9\n",
            "16/16 [==============================] - 1s 23ms/step - loss: 3.0408 - accuracy: 0.4339 - val_loss: 1.7348 - val_accuracy: 0.6350\n",
            "Epoch 2/9\n",
            "16/16 [==============================] - 0s 15ms/step - loss: 1.5195 - accuracy: 0.6860 - val_loss: 1.3187 - val_accuracy: 0.7210\n",
            "Epoch 3/9\n",
            "16/16 [==============================] - 0s 15ms/step - loss: 1.1047 - accuracy: 0.7623 - val_loss: 1.1159 - val_accuracy: 0.7540\n",
            "Epoch 4/9\n",
            "16/16 [==============================] - 0s 15ms/step - loss: 0.8302 - accuracy: 0.8235 - val_loss: 1.0081 - val_accuracy: 0.7910\n",
            "Epoch 5/9\n",
            "16/16 [==============================] - 0s 15ms/step - loss: 0.6664 - accuracy: 0.8617 - val_loss: 0.9505 - val_accuracy: 0.8020\n",
            "Epoch 6/9\n",
            "16/16 [==============================] - 0s 15ms/step - loss: 0.5333 - accuracy: 0.8910 - val_loss: 0.9178 - val_accuracy: 0.8000\n",
            "Epoch 7/9\n",
            "16/16 [==============================] - 0s 15ms/step - loss: 0.4306 - accuracy: 0.9097 - val_loss: 0.8818 - val_accuracy: 0.8170\n",
            "Epoch 8/9\n",
            "16/16 [==============================] - 0s 14ms/step - loss: 0.3510 - accuracy: 0.9292 - val_loss: 0.8840 - val_accuracy: 0.8140\n",
            "Epoch 9/9\n",
            "16/16 [==============================] - 0s 14ms/step - loss: 0.2661 - accuracy: 0.9446 - val_loss: 0.8783 - val_accuracy: 0.8260\n",
            "71/71 [==============================] - 0s 3ms/step - loss: 0.9860 - accuracy: 0.7881\n"
          ],
          "name": "stdout"
        }
      ]
    },
    {
      "cell_type": "code",
      "metadata": {
        "id": "ctRxt2FLxKoH",
        "colab": {
          "base_uri": "https://localhost:8080/"
        },
        "outputId": "e00e808b-f7b9-44e7-cc53-6d61c775b136"
      },
      "source": [
        "results"
      ],
      "execution_count": 17,
      "outputs": [
        {
          "output_type": "execute_result",
          "data": {
            "text/plain": [
              "[0.9859542846679688, 0.7880676984786987]"
            ]
          },
          "metadata": {
            "tags": []
          },
          "execution_count": 17
        }
      ]
    },
    {
      "cell_type": "code",
      "metadata": {
        "id": "SAO1hA9VxK7W",
        "colab": {
          "base_uri": "https://localhost:8080/"
        },
        "outputId": "a71b5f15-aa02-4f2e-85f5-f37d88ee7831"
      },
      "source": [
        "predictions = model.predict(x_test)\r\n",
        "predictions"
      ],
      "execution_count": 18,
      "outputs": [
        {
          "output_type": "execute_result",
          "data": {
            "text/plain": [
              "array([[9.48141496e-06, 1.15369883e-04, 1.22628597e-04, ...,\n",
              "        1.26778577e-05, 8.89959392e-06, 1.32177001e-06],\n",
              "       [3.07736825e-03, 2.44383141e-01, 4.26744111e-02, ...,\n",
              "        1.21854364e-05, 7.36219079e-07, 1.56861308e-04],\n",
              "       [1.12324646e-02, 8.49467874e-01, 6.29978115e-03, ...,\n",
              "        5.02267867e-05, 1.36250574e-05, 2.60621222e-04],\n",
              "       ...,\n",
              "       [1.91366689e-05, 8.28601187e-05, 5.38717977e-05, ...,\n",
              "        2.71256413e-05, 6.81332604e-05, 5.48897833e-06],\n",
              "       [2.96665356e-03, 1.01018816e-01, 9.14403051e-03, ...,\n",
              "        1.43600162e-03, 6.65596453e-04, 1.99356131e-04],\n",
              "       [5.22675284e-04, 5.68184733e-01, 3.79607780e-03, ...,\n",
              "        7.76896341e-05, 2.54971364e-05, 1.31106077e-04]], dtype=float32)"
            ]
          },
          "metadata": {
            "tags": []
          },
          "execution_count": 18
        }
      ]
    },
    {
      "cell_type": "code",
      "metadata": {
        "id": "do_qz9wJxuj7",
        "colab": {
          "base_uri": "https://localhost:8080/"
        },
        "outputId": "44f4661b-003e-4421-f4cc-84ed9486cc0a"
      },
      "source": [
        "np.sum(predictions[0])"
      ],
      "execution_count": 19,
      "outputs": [
        {
          "output_type": "execute_result",
          "data": {
            "text/plain": [
              "0.99999994"
            ]
          },
          "metadata": {
            "tags": []
          },
          "execution_count": 19
        }
      ]
    },
    {
      "cell_type": "code",
      "metadata": {
        "colab": {
          "base_uri": "https://localhost:8080/"
        },
        "id": "7ivLWRAxaZpV",
        "outputId": "e83eab7d-d419-44df-b321-cfeaf3c79528"
      },
      "source": [
        "np.argmax(predictions[0])"
      ],
      "execution_count": 20,
      "outputs": [
        {
          "output_type": "execute_result",
          "data": {
            "text/plain": [
              "3"
            ]
          },
          "metadata": {
            "tags": []
          },
          "execution_count": 20
        }
      ]
    },
    {
      "cell_type": "code",
      "metadata": {
        "id": "MTqAw--6xu0l",
        "colab": {
          "base_uri": "https://localhost:8080/"
        },
        "outputId": "3a22721a-f705-44ce-e3bd-83ab29ae0455"
      },
      "source": [
        "# 은닉층을 4로 수정\r\n",
        "\r\n",
        "model = models.Sequential()\r\n",
        "model.add(layers.Dense(64, activation='relu', input_shape=(10000,)))\r\n",
        "model.add(layers.Dense(4, activation='relu'))\r\n",
        "model.add(layers.Dense(46, activation='softmax'))\r\n",
        "\r\n",
        "model.compile(optimizer='rmsprop',\r\n",
        "              loss='categorical_crossentropy',\r\n",
        "              metrics=['accuracy'])\r\n",
        "\r\n",
        "model.fit(partial_x_train,\r\n",
        "          partial_y_train,\r\n",
        "          epochs=20,\r\n",
        "          batch_size=128,\r\n",
        "          validation_data=(x_val, y_val))"
      ],
      "execution_count": 29,
      "outputs": [
        {
          "output_type": "stream",
          "text": [
            "Epoch 1/20\n",
            "63/63 [==============================] - 1s 7ms/step - loss: 3.3156 - accuracy: 0.0645 - val_loss: 2.3446 - val_accuracy: 0.5090\n",
            "Epoch 2/20\n",
            "63/63 [==============================] - 0s 5ms/step - loss: 2.0312 - accuracy: 0.5606 - val_loss: 1.5978 - val_accuracy: 0.5970\n",
            "Epoch 3/20\n",
            "63/63 [==============================] - 0s 5ms/step - loss: 1.4754 - accuracy: 0.6163 - val_loss: 1.5019 - val_accuracy: 0.6260\n",
            "Epoch 4/20\n",
            "63/63 [==============================] - 0s 5ms/step - loss: 1.2990 - accuracy: 0.6727 - val_loss: 1.4465 - val_accuracy: 0.6410\n",
            "Epoch 5/20\n",
            "63/63 [==============================] - 0s 5ms/step - loss: 1.2055 - accuracy: 0.6840 - val_loss: 1.3664 - val_accuracy: 0.6720\n",
            "Epoch 6/20\n",
            "63/63 [==============================] - 0s 5ms/step - loss: 1.0691 - accuracy: 0.7244 - val_loss: 1.3257 - val_accuracy: 0.6920\n",
            "Epoch 7/20\n",
            "63/63 [==============================] - 0s 5ms/step - loss: 0.9603 - accuracy: 0.7556 - val_loss: 1.3411 - val_accuracy: 0.6780\n",
            "Epoch 8/20\n",
            "63/63 [==============================] - 0s 5ms/step - loss: 0.8650 - accuracy: 0.7806 - val_loss: 1.3295 - val_accuracy: 0.7090\n",
            "Epoch 9/20\n",
            "63/63 [==============================] - 0s 5ms/step - loss: 0.7729 - accuracy: 0.8036 - val_loss: 1.3512 - val_accuracy: 0.7150\n",
            "Epoch 10/20\n",
            "63/63 [==============================] - 0s 5ms/step - loss: 0.7379 - accuracy: 0.8095 - val_loss: 1.3924 - val_accuracy: 0.7040\n",
            "Epoch 11/20\n",
            "63/63 [==============================] - 0s 5ms/step - loss: 0.7023 - accuracy: 0.8173 - val_loss: 1.4131 - val_accuracy: 0.7170\n",
            "Epoch 12/20\n",
            "63/63 [==============================] - 0s 5ms/step - loss: 0.6178 - accuracy: 0.8440 - val_loss: 1.4427 - val_accuracy: 0.7200\n",
            "Epoch 13/20\n",
            "63/63 [==============================] - 0s 5ms/step - loss: 0.6027 - accuracy: 0.8527 - val_loss: 1.5214 - val_accuracy: 0.7090\n",
            "Epoch 14/20\n",
            "63/63 [==============================] - 0s 6ms/step - loss: 0.5586 - accuracy: 0.8611 - val_loss: 1.5214 - val_accuracy: 0.7170\n",
            "Epoch 15/20\n",
            "63/63 [==============================] - 0s 5ms/step - loss: 0.5341 - accuracy: 0.8677 - val_loss: 1.5604 - val_accuracy: 0.7210\n",
            "Epoch 16/20\n",
            "63/63 [==============================] - 0s 5ms/step - loss: 0.5182 - accuracy: 0.8690 - val_loss: 1.6602 - val_accuracy: 0.7040\n",
            "Epoch 17/20\n",
            "63/63 [==============================] - 0s 5ms/step - loss: 0.5002 - accuracy: 0.8689 - val_loss: 1.6832 - val_accuracy: 0.7090\n",
            "Epoch 18/20\n",
            "63/63 [==============================] - 0s 5ms/step - loss: 0.4654 - accuracy: 0.8728 - val_loss: 1.7373 - val_accuracy: 0.7070\n",
            "Epoch 19/20\n",
            "63/63 [==============================] - 0s 5ms/step - loss: 0.4340 - accuracy: 0.8857 - val_loss: 1.7977 - val_accuracy: 0.7030\n",
            "Epoch 20/20\n",
            "63/63 [==============================] - 0s 5ms/step - loss: 0.4517 - accuracy: 0.8843 - val_loss: 1.8806 - val_accuracy: 0.7040\n"
          ],
          "name": "stdout"
        },
        {
          "output_type": "execute_result",
          "data": {
            "text/plain": [
              "<tensorflow.python.keras.callbacks.History at 0x7f09e6ae4390>"
            ]
          },
          "metadata": {
            "tags": []
          },
          "execution_count": 29
        }
      ]
    }
  ]
}