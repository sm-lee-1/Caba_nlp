{
  "nbformat": 4,
  "nbformat_minor": 0,
  "metadata": {
    "colab": {
      "name": "DL20_classifying-movie-reviews.ipynb",
      "provenance": [],
      "collapsed_sections": [],
      "authorship_tag": "ABX9TyPOVrsnpSD7G381ZN/j/fIV",
      "include_colab_link": true
    },
    "kernelspec": {
      "name": "python3",
      "display_name": "Python 3"
    },
    "accelerator": "GPU"
  },
  "cells": [
    {
      "cell_type": "markdown",
      "metadata": {
        "id": "view-in-github",
        "colab_type": "text"
      },
      "source": [
        "<a href=\"https://colab.research.google.com/github/sm-lee-1/Caba_nlp/blob/main/DL20_classifying_movie_reviews.ipynb\" target=\"_parent\"><img src=\"https://colab.research.google.com/assets/colab-badge.svg\" alt=\"Open In Colab\"/></a>"
      ]
    },
    {
      "cell_type": "markdown",
      "metadata": {
        "id": "ohO9BZD0CAPj"
      },
      "source": [
        "## IMDB 데이터셋\r\n",
        "\r\n",
        "인터넷 영화 데이터베이스로부터 가져온 양극단의 리뷰 50,000개로 이루어진 IMDB 데이터셋을 사용하겠습니다. 이 데이터셋은 훈련 데이터 25,000개와 테스트 데이터 25,000개로 나뉘어 있고 각각 50%는 부정, 50%는 긍정 리뷰로 구성되어 있습니다.\r\n",
        "\r\n",
        "왜 훈련 데이터와 테스트 데이터를 나눌까요? 같은 데이터에서 머신 러닝 모델을 훈련하고 테스트해서는 절대 안 되기 때문입니다! 모델이 훈련 데이터에서 잘 작동한다는 것이 처음 만난 데이터에서도 잘 동작한다는 것을 보장하지 않습니다. 중요한 것은 새로운 데이터에 대한 모델의 성능입니다(사실 훈련 데이터의 레이블은 이미 알고 있기 때문에 이를 예측하는 모델은 필요하지 않습니다). 예를 들어 모델이 훈련 샘플과 타깃 사이의 매핑을 모두 외워버릴 수 있습니다. 이런 모델은 처음 만나는 데이터에서 타깃을 예측하는 작업에는 쓸모가 없습니다. 다음 장에서 이에 대해 더 자세히 살펴보겠습니다.\r\n",
        "\r\n",
        "MNIST 데이터셋처럼 IMDB 데이터셋도 케라스에 포함되어 있습니다. 이 데이터는 전처리되어 있어 각 리뷰(단어 시퀀스)가 숫자 시퀀스로 변환되어 있습니다. 여기서 각 숫자는 사전에 있는 고유한 단어를 나타냅니다."
      ]
    },
    {
      "cell_type": "code",
      "metadata": {
        "colab": {
          "base_uri": "https://localhost:8080/"
        },
        "id": "v8uOOQqUN6k6",
        "outputId": "23597cad-655a-424e-b0ed-958414bebc62"
      },
      "source": [
        "from keras.datasets import imdb\r\n",
        "import warnings\r\n",
        "warnings.filterwarnings('ignore')\r\n",
        "\r\n",
        "(train_data, train_labels),(test_data, test_labels) = imdb.load_data(num_words=10000)\r\n",
        "# 매개변수 num_words=10000 : 훈련 데이터에서 가장 자주 나타나는 단어 10000개만 사용한다는 의미임"
      ],
      "execution_count": 2,
      "outputs": [
        {
          "output_type": "stream",
          "text": [
            "Downloading data from https://storage.googleapis.com/tensorflow/tf-keras-datasets/imdb.npz\n",
            "17465344/17464789 [==============================] - 0s 0us/step\n"
          ],
          "name": "stdout"
        }
      ]
    },
    {
      "cell_type": "code",
      "metadata": {
        "colab": {
          "base_uri": "https://localhost:8080/"
        },
        "id": "uqAYXhsAOiFW",
        "outputId": "21dc3c69-53b7-4ed3-90de-a9ea1795ea83"
      },
      "source": [
        "print(train_data.shape)\r\n",
        "print(train_labels[0])"
      ],
      "execution_count": 3,
      "outputs": [
        {
          "output_type": "stream",
          "text": [
            "(25000,)\n",
            "1\n"
          ],
          "name": "stdout"
        }
      ]
    },
    {
      "cell_type": "code",
      "metadata": {
        "id": "v9hLFb7hOiOB"
      },
      "source": [
        "# 변수 train_data와 test_data는 리뷰 목록이며 단어 인덱스의 리스트이다. 단어 시퀀스가 인코딩된 것이다.\r\n",
        "# test_lables는 부정(0), 긍정(1)을 나타내는 리스트이다."
      ],
      "execution_count": null,
      "outputs": []
    },
    {
      "cell_type": "code",
      "metadata": {
        "colab": {
          "base_uri": "https://localhost:8080/"
        },
        "id": "g7mSHgHzOiU4",
        "outputId": "ea2c52f6-b8c3-4b04-f65d-8d60cb0a6074"
      },
      "source": [
        "max([max(sequence) for sequence in train_data])"
      ],
      "execution_count": 4,
      "outputs": [
        {
          "output_type": "execute_result",
          "data": {
            "text/plain": [
              "9999"
            ]
          },
          "metadata": {
            "tags": []
          },
          "execution_count": 4
        }
      ]
    },
    {
      "cell_type": "code",
      "metadata": {
        "id": "uh4YkOvbOiZq",
        "colab": {
          "base_uri": "https://localhost:8080/"
        },
        "outputId": "7a6e7162-b2cb-41e5-d1de-18c69dc42824"
      },
      "source": [
        "train_data[:5]"
      ],
      "execution_count": 5,
      "outputs": [
        {
          "output_type": "execute_result",
          "data": {
            "text/plain": [
              "array([list([1, 14, 22, 16, 43, 530, 973, 1622, 1385, 65, 458, 4468, 66, 3941, 4, 173, 36, 256, 5, 25, 100, 43, 838, 112, 50, 670, 2, 9, 35, 480, 284, 5, 150, 4, 172, 112, 167, 2, 336, 385, 39, 4, 172, 4536, 1111, 17, 546, 38, 13, 447, 4, 192, 50, 16, 6, 147, 2025, 19, 14, 22, 4, 1920, 4613, 469, 4, 22, 71, 87, 12, 16, 43, 530, 38, 76, 15, 13, 1247, 4, 22, 17, 515, 17, 12, 16, 626, 18, 2, 5, 62, 386, 12, 8, 316, 8, 106, 5, 4, 2223, 5244, 16, 480, 66, 3785, 33, 4, 130, 12, 16, 38, 619, 5, 25, 124, 51, 36, 135, 48, 25, 1415, 33, 6, 22, 12, 215, 28, 77, 52, 5, 14, 407, 16, 82, 2, 8, 4, 107, 117, 5952, 15, 256, 4, 2, 7, 3766, 5, 723, 36, 71, 43, 530, 476, 26, 400, 317, 46, 7, 4, 2, 1029, 13, 104, 88, 4, 381, 15, 297, 98, 32, 2071, 56, 26, 141, 6, 194, 7486, 18, 4, 226, 22, 21, 134, 476, 26, 480, 5, 144, 30, 5535, 18, 51, 36, 28, 224, 92, 25, 104, 4, 226, 65, 16, 38, 1334, 88, 12, 16, 283, 5, 16, 4472, 113, 103, 32, 15, 16, 5345, 19, 178, 32]),\n",
              "       list([1, 194, 1153, 194, 8255, 78, 228, 5, 6, 1463, 4369, 5012, 134, 26, 4, 715, 8, 118, 1634, 14, 394, 20, 13, 119, 954, 189, 102, 5, 207, 110, 3103, 21, 14, 69, 188, 8, 30, 23, 7, 4, 249, 126, 93, 4, 114, 9, 2300, 1523, 5, 647, 4, 116, 9, 35, 8163, 4, 229, 9, 340, 1322, 4, 118, 9, 4, 130, 4901, 19, 4, 1002, 5, 89, 29, 952, 46, 37, 4, 455, 9, 45, 43, 38, 1543, 1905, 398, 4, 1649, 26, 6853, 5, 163, 11, 3215, 2, 4, 1153, 9, 194, 775, 7, 8255, 2, 349, 2637, 148, 605, 2, 8003, 15, 123, 125, 68, 2, 6853, 15, 349, 165, 4362, 98, 5, 4, 228, 9, 43, 2, 1157, 15, 299, 120, 5, 120, 174, 11, 220, 175, 136, 50, 9, 4373, 228, 8255, 5, 2, 656, 245, 2350, 5, 4, 9837, 131, 152, 491, 18, 2, 32, 7464, 1212, 14, 9, 6, 371, 78, 22, 625, 64, 1382, 9, 8, 168, 145, 23, 4, 1690, 15, 16, 4, 1355, 5, 28, 6, 52, 154, 462, 33, 89, 78, 285, 16, 145, 95]),\n",
              "       list([1, 14, 47, 8, 30, 31, 7, 4, 249, 108, 7, 4, 5974, 54, 61, 369, 13, 71, 149, 14, 22, 112, 4, 2401, 311, 12, 16, 3711, 33, 75, 43, 1829, 296, 4, 86, 320, 35, 534, 19, 263, 4821, 1301, 4, 1873, 33, 89, 78, 12, 66, 16, 4, 360, 7, 4, 58, 316, 334, 11, 4, 1716, 43, 645, 662, 8, 257, 85, 1200, 42, 1228, 2578, 83, 68, 3912, 15, 36, 165, 1539, 278, 36, 69, 2, 780, 8, 106, 14, 6905, 1338, 18, 6, 22, 12, 215, 28, 610, 40, 6, 87, 326, 23, 2300, 21, 23, 22, 12, 272, 40, 57, 31, 11, 4, 22, 47, 6, 2307, 51, 9, 170, 23, 595, 116, 595, 1352, 13, 191, 79, 638, 89, 2, 14, 9, 8, 106, 607, 624, 35, 534, 6, 227, 7, 129, 113]),\n",
              "       list([1, 4, 2, 2, 33, 2804, 4, 2040, 432, 111, 153, 103, 4, 1494, 13, 70, 131, 67, 11, 61, 2, 744, 35, 3715, 761, 61, 5766, 452, 9214, 4, 985, 7, 2, 59, 166, 4, 105, 216, 1239, 41, 1797, 9, 15, 7, 35, 744, 2413, 31, 8, 4, 687, 23, 4, 2, 7339, 6, 3693, 42, 38, 39, 121, 59, 456, 10, 10, 7, 265, 12, 575, 111, 153, 159, 59, 16, 1447, 21, 25, 586, 482, 39, 4, 96, 59, 716, 12, 4, 172, 65, 9, 579, 11, 6004, 4, 1615, 5, 2, 7, 5168, 17, 13, 7064, 12, 19, 6, 464, 31, 314, 11, 2, 6, 719, 605, 11, 8, 202, 27, 310, 4, 3772, 3501, 8, 2722, 58, 10, 10, 537, 2116, 180, 40, 14, 413, 173, 7, 263, 112, 37, 152, 377, 4, 537, 263, 846, 579, 178, 54, 75, 71, 476, 36, 413, 263, 2504, 182, 5, 17, 75, 2306, 922, 36, 279, 131, 2895, 17, 2867, 42, 17, 35, 921, 2, 192, 5, 1219, 3890, 19, 2, 217, 4122, 1710, 537, 2, 1236, 5, 736, 10, 10, 61, 403, 9, 2, 40, 61, 4494, 5, 27, 4494, 159, 90, 263, 2311, 4319, 309, 8, 178, 5, 82, 4319, 4, 65, 15, 9225, 145, 143, 5122, 12, 7039, 537, 746, 537, 537, 15, 7979, 4, 2, 594, 7, 5168, 94, 9096, 3987, 2, 11, 2, 4, 538, 7, 1795, 246, 2, 9, 2, 11, 635, 14, 9, 51, 408, 12, 94, 318, 1382, 12, 47, 6, 2683, 936, 5, 6307, 2, 19, 49, 7, 4, 1885, 2, 1118, 25, 80, 126, 842, 10, 10, 2, 2, 4726, 27, 4494, 11, 1550, 3633, 159, 27, 341, 29, 2733, 19, 4185, 173, 7, 90, 2, 8, 30, 11, 4, 1784, 86, 1117, 8, 3261, 46, 11, 2, 21, 29, 9, 2841, 23, 4, 1010, 2, 793, 6, 2, 1386, 1830, 10, 10, 246, 50, 9, 6, 2750, 1944, 746, 90, 29, 2, 8, 124, 4, 882, 4, 882, 496, 27, 2, 2213, 537, 121, 127, 1219, 130, 5, 29, 494, 8, 124, 4, 882, 496, 4, 341, 7, 27, 846, 10, 10, 29, 9, 1906, 8, 97, 6, 236, 2, 1311, 8, 4, 2, 7, 31, 7, 2, 91, 2, 3987, 70, 4, 882, 30, 579, 42, 9, 12, 32, 11, 537, 10, 10, 11, 14, 65, 44, 537, 75, 2, 1775, 3353, 2, 1846, 4, 2, 7, 154, 5, 4, 518, 53, 2, 2, 7, 3211, 882, 11, 399, 38, 75, 257, 3807, 19, 2, 17, 29, 456, 4, 65, 7, 27, 205, 113, 10, 10, 2, 4, 2, 2, 9, 242, 4, 91, 1202, 2, 5, 2070, 307, 22, 7, 5168, 126, 93, 40, 2, 13, 188, 1076, 3222, 19, 4, 2, 7, 2348, 537, 23, 53, 537, 21, 82, 40, 2, 13, 2, 14, 280, 13, 219, 4, 2, 431, 758, 859, 4, 953, 1052, 2, 7, 5991, 5, 94, 40, 25, 238, 60, 2, 4, 2, 804, 2, 7, 4, 9941, 132, 8, 67, 6, 22, 15, 9, 283, 8, 5168, 14, 31, 9, 242, 955, 48, 25, 279, 2, 23, 12, 1685, 195, 25, 238, 60, 796, 2, 4, 671, 7, 2804, 5, 4, 559, 154, 888, 7, 726, 50, 26, 49, 7008, 15, 566, 30, 579, 21, 64, 2574]),\n",
              "       list([1, 249, 1323, 7, 61, 113, 10, 10, 13, 1637, 14, 20, 56, 33, 2401, 18, 457, 88, 13, 2626, 1400, 45, 3171, 13, 70, 79, 49, 706, 919, 13, 16, 355, 340, 355, 1696, 96, 143, 4, 22, 32, 289, 7, 61, 369, 71, 2359, 5, 13, 16, 131, 2073, 249, 114, 249, 229, 249, 20, 13, 28, 126, 110, 13, 473, 8, 569, 61, 419, 56, 429, 6, 1513, 18, 35, 534, 95, 474, 570, 5, 25, 124, 138, 88, 12, 421, 1543, 52, 725, 6397, 61, 419, 11, 13, 1571, 15, 1543, 20, 11, 4, 2, 5, 296, 12, 3524, 5, 15, 421, 128, 74, 233, 334, 207, 126, 224, 12, 562, 298, 2167, 1272, 7, 2601, 5, 516, 988, 43, 8, 79, 120, 15, 595, 13, 784, 25, 3171, 18, 165, 170, 143, 19, 14, 5, 7224, 6, 226, 251, 7, 61, 113])],\n",
              "      dtype=object)"
            ]
          },
          "metadata": {
            "tags": []
          },
          "execution_count": 5
        }
      ]
    },
    {
      "cell_type": "code",
      "metadata": {
        "id": "dibpHWKTOidL"
      },
      "source": [
        "# word_index 는 단어와 정수 인덱스를 매핑한 딕셔너리"
      ],
      "execution_count": null,
      "outputs": []
    },
    {
      "cell_type": "markdown",
      "metadata": {
        "id": "tIzeOSL-C0aD"
      },
      "source": [
        "데이터 준비  \r\n",
        "신경망에 숫자 리스트를 주입할 수는 없다. 리스트를 텐서로 바꾸어주어야 한다.  \r\n",
        "- 같은 길이가 되도록 리스트에 패딩을 추가하고 (samples, sequence_length) 크기의 정수 텐서로 변환한 다음 이 정수 텐서를 다룰 수 있는 층을 신경망의 첫번째 층으로 사용\r\n",
        "- 리스트를 원-핫 인코딩하여 0과 1의 벡터로 변환한다. 예를들어 [3,5]를 3과 5 위치는 1이고 나머지는 0인 10000 차원의 벡터로 변환 ==> 아래 코드"
      ]
    },
    {
      "cell_type": "code",
      "metadata": {
        "id": "ek7ENS0YOig5"
      },
      "source": [
        "import numpy as np\r\n",
        "def vectorize_sequences(sequences, dimension=10000):\r\n",
        "  results = np.zeros((len(sequences), dimension))\r\n",
        "  for i, sequence in enumerate(sequences):\r\n",
        "    results[i,sequence] = 1.   # results[i] 에서 특정 인덱스의 위치를 1로 만든다.\r\n",
        "  return results \r\n",
        "\r\n",
        "x_train = vectorize_sequences(train_data)   \r\n",
        "x_test = vectorize_sequences(test_data)"
      ],
      "execution_count": 8,
      "outputs": []
    },
    {
      "cell_type": "code",
      "metadata": {
        "colab": {
          "base_uri": "https://localhost:8080/"
        },
        "id": "QwE_G01YFbSn",
        "outputId": "0c040380-ed08-4d9a-bff2-7fd378b3202a"
      },
      "source": [
        "x_train.shape"
      ],
      "execution_count": 9,
      "outputs": [
        {
          "output_type": "execute_result",
          "data": {
            "text/plain": [
              "(25000, 10000)"
            ]
          },
          "metadata": {
            "tags": []
          },
          "execution_count": 9
        }
      ]
    },
    {
      "cell_type": "code",
      "metadata": {
        "colab": {
          "base_uri": "https://localhost:8080/"
        },
        "id": "J-KLtE_rFs25",
        "outputId": "cf43c996-c4be-410f-b113-a28523ca86c8"
      },
      "source": [
        "x_train[:5]"
      ],
      "execution_count": 10,
      "outputs": [
        {
          "output_type": "execute_result",
          "data": {
            "text/plain": [
              "array([[0., 1., 1., ..., 0., 0., 0.],\n",
              "       [0., 1., 1., ..., 0., 0., 0.],\n",
              "       [0., 1., 1., ..., 0., 0., 0.],\n",
              "       [0., 1., 1., ..., 0., 0., 0.],\n",
              "       [0., 1., 1., ..., 0., 0., 0.]])"
            ]
          },
          "metadata": {
            "tags": []
          },
          "execution_count": 10
        }
      ]
    },
    {
      "cell_type": "code",
      "metadata": {
        "id": "-0SJPnQKFs_T"
      },
      "source": [
        "y_train = np.asarray(train_labels).astype('float32')\r\n",
        "y_test = np.asarray(test_labels).astype('float32')"
      ],
      "execution_count": 11,
      "outputs": []
    },
    {
      "cell_type": "code",
      "metadata": {
        "colab": {
          "base_uri": "https://localhost:8080/"
        },
        "id": "TktTH6F4FtLO",
        "outputId": "87f0fd5d-c8a6-4118-a2f2-a19a48853ec8"
      },
      "source": [
        "y_train[:5]"
      ],
      "execution_count": 12,
      "outputs": [
        {
          "output_type": "execute_result",
          "data": {
            "text/plain": [
              "array([1., 0., 0., 1., 0.], dtype=float32)"
            ]
          },
          "metadata": {
            "tags": []
          },
          "execution_count": 12
        }
      ]
    },
    {
      "cell_type": "markdown",
      "metadata": {
        "id": "kDIWjOH3GQ_m"
      },
      "source": [
        "신경망 모델 만들기  \r\n",
        "Dense 층을 쌓을 때 중요한 구조상의 결정 필요\r\n",
        "- 얼마나 많은 층을 사용할 것인가?\r\n",
        "- 각 층에 얼마나 많은 은닉 유닛을 둘 것인가?\r\n"
      ]
    },
    {
      "cell_type": "code",
      "metadata": {
        "id": "LUnP2gidGP-m"
      },
      "source": [
        "from keras import models\r\n",
        "from keras import layers\r\n",
        "\r\n",
        "# 'relu' : 최대값 , 'sigmoid' : 확률을 판단해서 0.5보다 작으면 0/크면 1\r\n",
        "# 16 : 은닉 유닛 \r\n",
        "model = models.Sequential()\r\n",
        "model.add(layers.Dense(16, activation='relu', input_shape=(10000,)))  # 은닉층, 입력층\r\n",
        "model.add(layers.Dense(16, activation='relu'))  # 은닉층, 입력층\r\n",
        "model.add(layers.Dense(1, activation='sigmoid'))  # 출력층"
      ],
      "execution_count": 15,
      "outputs": []
    },
    {
      "cell_type": "markdown",
      "metadata": {
        "id": "MB8eKVwkIL0_"
      },
      "source": [
        "컴파일\r\n",
        "- 손실함수  \r\n",
        "- 옵티마이저  \r\n",
        "- 모니터링 방법\r\n"
      ]
    },
    {
      "cell_type": "code",
      "metadata": {
        "id": "kZ8LopTfGQCW"
      },
      "source": [
        "model.compile(optimizer = 'rmsprop',\r\n",
        "              loss = 'binary_crossentropy',\r\n",
        "              metrics = ['accuracy'])"
      ],
      "execution_count": 16,
      "outputs": []
    },
    {
      "cell_type": "code",
      "metadata": {
        "id": "jwf3Az34GQFl"
      },
      "source": [
        "# 훈련 검증 : 10000개 샘플을 검증용 세트로 분리\r\n",
        "x_val = x_train[:10000]\r\n",
        "partial_x_train = x_train[10000:]\r\n",
        "y_val = y_train[:10000]\r\n",
        "partial_y_train = y_train[10000:]"
      ],
      "execution_count": 20,
      "outputs": []
    },
    {
      "cell_type": "code",
      "metadata": {
        "colab": {
          "base_uri": "https://localhost:8080/"
        },
        "id": "HH8TpxC8GQI2",
        "outputId": "3a6547d3-e366-4722-8592-8923d6af507a"
      },
      "source": [
        "# 512개씩 미니 배치로 만들어 20번의 에포크 동안 훈련\r\n",
        "\r\n",
        "history = model.fit(partial_x_train,\r\n",
        "                    partial_y_train,\r\n",
        "                    epochs=20,\r\n",
        "                    batch_size=512,\r\n",
        "                    validation_data=(x_val, y_val))"
      ],
      "execution_count": 21,
      "outputs": [
        {
          "output_type": "stream",
          "text": [
            "Epoch 1/20\n",
            "30/30 [==============================] - 1s 27ms/step - loss: 0.2993 - accuracy: 0.9031 - val_loss: 0.2983 - val_accuracy: 0.8909\n",
            "Epoch 2/20\n",
            "30/30 [==============================] - 1s 25ms/step - loss: 0.2173 - accuracy: 0.9285 - val_loss: 0.2754 - val_accuracy: 0.8905\n",
            "Epoch 3/20\n",
            "30/30 [==============================] - 1s 25ms/step - loss: 0.1708 - accuracy: 0.9427 - val_loss: 0.2739 - val_accuracy: 0.8910\n",
            "Epoch 4/20\n",
            "30/30 [==============================] - 1s 22ms/step - loss: 0.1377 - accuracy: 0.9569 - val_loss: 0.2820 - val_accuracy: 0.8888\n",
            "Epoch 5/20\n",
            "30/30 [==============================] - 1s 23ms/step - loss: 0.1168 - accuracy: 0.9632 - val_loss: 0.2967 - val_accuracy: 0.8876\n",
            "Epoch 6/20\n",
            "30/30 [==============================] - 1s 25ms/step - loss: 0.0949 - accuracy: 0.9723 - val_loss: 0.3170 - val_accuracy: 0.8846\n",
            "Epoch 7/20\n",
            "30/30 [==============================] - 1s 25ms/step - loss: 0.0788 - accuracy: 0.9773 - val_loss: 0.3374 - val_accuracy: 0.8791\n",
            "Epoch 8/20\n",
            "30/30 [==============================] - 1s 25ms/step - loss: 0.0641 - accuracy: 0.9832 - val_loss: 0.4499 - val_accuracy: 0.8619\n",
            "Epoch 9/20\n",
            "30/30 [==============================] - 1s 34ms/step - loss: 0.0538 - accuracy: 0.9866 - val_loss: 0.3836 - val_accuracy: 0.8781\n",
            "Epoch 10/20\n",
            "30/30 [==============================] - 1s 35ms/step - loss: 0.0468 - accuracy: 0.9879 - val_loss: 0.4099 - val_accuracy: 0.8782\n",
            "Epoch 11/20\n",
            "30/30 [==============================] - 1s 22ms/step - loss: 0.0356 - accuracy: 0.9921 - val_loss: 0.4429 - val_accuracy: 0.8719\n",
            "Epoch 12/20\n",
            "30/30 [==============================] - 1s 23ms/step - loss: 0.0298 - accuracy: 0.9935 - val_loss: 0.4699 - val_accuracy: 0.8726\n",
            "Epoch 13/20\n",
            "30/30 [==============================] - 1s 23ms/step - loss: 0.0253 - accuracy: 0.9947 - val_loss: 0.5105 - val_accuracy: 0.8680\n",
            "Epoch 14/20\n",
            "30/30 [==============================] - 1s 23ms/step - loss: 0.0154 - accuracy: 0.9985 - val_loss: 0.5699 - val_accuracy: 0.8612\n",
            "Epoch 15/20\n",
            "30/30 [==============================] - 1s 23ms/step - loss: 0.0166 - accuracy: 0.9971 - val_loss: 0.5788 - val_accuracy: 0.8655\n",
            "Epoch 16/20\n",
            "30/30 [==============================] - 1s 24ms/step - loss: 0.0116 - accuracy: 0.9985 - val_loss: 0.6023 - val_accuracy: 0.8684\n",
            "Epoch 17/20\n",
            "30/30 [==============================] - 1s 40ms/step - loss: 0.0125 - accuracy: 0.9969 - val_loss: 0.6376 - val_accuracy: 0.8668\n",
            "Epoch 18/20\n",
            "30/30 [==============================] - 2s 61ms/step - loss: 0.0050 - accuracy: 0.9998 - val_loss: 0.6614 - val_accuracy: 0.8654\n",
            "Epoch 19/20\n",
            "30/30 [==============================] - 1s 23ms/step - loss: 0.0067 - accuracy: 0.9990 - val_loss: 0.7018 - val_accuracy: 0.8642\n",
            "Epoch 20/20\n",
            "30/30 [==============================] - 1s 23ms/step - loss: 0.0067 - accuracy: 0.9985 - val_loss: 0.7484 - val_accuracy: 0.8651\n"
          ],
          "name": "stdout"
        }
      ]
    },
    {
      "cell_type": "code",
      "metadata": {
        "id": "__2cL8QlQa-4"
      },
      "source": [
        "history_dict = history.history"
      ],
      "execution_count": 24,
      "outputs": []
    },
    {
      "cell_type": "code",
      "metadata": {
        "colab": {
          "base_uri": "https://localhost:8080/",
          "height": 295
        },
        "id": "RFk3LxaXKNZ3",
        "outputId": "fb2346ab-5ce5-4e43-d77e-58b794acfaca"
      },
      "source": [
        "import matplotlib.pyplot as plt\r\n",
        "\r\n",
        "acc = history.history['accuracy']\r\n",
        "val_acc = history.history['val_accuracy']\r\n",
        "loss = history.history['loss']\r\n",
        "val_loss = history.history['val_loss']\r\n",
        "\r\n",
        "epochs = range(1, len(acc) + 1)\r\n",
        "\r\n",
        "plt.plot(epochs, loss, 'bo', label='Train loss')\r\n",
        "plt.plot(epochs, val_loss, 'b', label='Validation loss')\r\n",
        "plt.title('Training and validation loss')\r\n",
        "plt.xlabel('Epochs')\r\n",
        "plt.ylabel('Loss')\r\n",
        "plt.legend()\r\n",
        "plt.show()"
      ],
      "execution_count": 22,
      "outputs": [
        {
          "output_type": "display_data",
          "data": {
            "image/png": "[encoded data removed]",
            "text/plain": [
              "<Figure size 432x288 with 1 Axes>"
            ]
          },
          "metadata": {
            "tags": [],
            "needs_background": "light"
          }
        }
      ]
    },
    {
      "cell_type": "code",
      "metadata": {
        "colab": {
          "base_uri": "https://localhost:8080/",
          "height": 295
        },
        "id": "Wn1tcMudKNd2",
        "outputId": "717997b0-cc00-45bb-dab0-6e98bd32cb37"
      },
      "source": [
        "plt.clf() # 그래프 초기화\r\n",
        "\r\n",
        "acc = history_dict['accuracy']\r\n",
        "val_acc = history_dict['val_accuracy']\r\n",
        "\r\n",
        "plt.plot(epochs, acc, 'bo', label='Training acc')\r\n",
        "plt.plot(epochs, val_acc, 'b', label='Validation acc')\r\n",
        "plt.title('Traning and validation accuracy')\r\n",
        "plt.xlabel('Epochs')\r\n",
        "plt.ylabel('Accuracy')\r\n",
        "plt.legend()\r\n",
        "plt.show()"
      ],
      "execution_count": 25,
      "outputs": [
        {
          "output_type": "display_data",
          "data": {
            "image/png": "[encoded data removed]",
            "text/plain": [
              "<Figure size 432x288 with 1 Axes>"
            ]
          },
          "metadata": {
            "tags": [],
            "needs_background": "light"
          }
        }
      ]
    },
    {
      "cell_type": "code",
      "metadata": {
        "id": "72l-DehkKNiW"
      },
      "source": [
        "from keras import models\r\n",
        "from keras import layers\r\n",
        "\r\n",
        "# 'relu' : 최대값 , 'sigmoid' : 확률을 판단해서 0.5보다 작으면 0/크면 1\r\n",
        "# 16 : 은닉 유닛 \r\n",
        "model = models.Sequential()\r\n",
        "model.add(layers.Dense(16, activation='relu', input_shape=(10000,)))\r\n",
        "model.add(layers.Dense(16, activation='relu'))\r\n",
        "model.add(layers.Dense(1, activation='sigmoid'))"
      ],
      "execution_count": 26,
      "outputs": []
    },
    {
      "cell_type": "code",
      "metadata": {
        "id": "m4_VDHOmGQNK"
      },
      "source": [
        "model.compile(optimizer = 'rmsprop',\r\n",
        "              loss = 'binary_crossentropy',\r\n",
        "              metrics = ['accuracy'])"
      ],
      "execution_count": 27,
      "outputs": []
    },
    {
      "cell_type": "code",
      "metadata": {
        "colab": {
          "base_uri": "https://localhost:8080/"
        },
        "id": "IZuyZMeHRDzs",
        "outputId": "a208113d-1dd7-420e-c2aa-003befaf21a7"
      },
      "source": [
        "model.fit(x_train, y_train, epochs=4, batch_size=512)\r\n",
        "results = model.evaluate(x_test, y_test)"
      ],
      "execution_count": 28,
      "outputs": [
        {
          "output_type": "stream",
          "text": [
            "Epoch 1/4\n",
            "49/49 [==============================] - 1s 11ms/step - loss: 0.5507 - accuracy: 0.7563\n",
            "Epoch 2/4\n",
            "49/49 [==============================] - 1s 11ms/step - loss: 0.2808 - accuracy: 0.9073\n",
            "Epoch 3/4\n",
            "49/49 [==============================] - 1s 12ms/step - loss: 0.1977 - accuracy: 0.9323\n",
            "Epoch 4/4\n",
            "49/49 [==============================] - 1s 11ms/step - loss: 0.1652 - accuracy: 0.9453\n",
            "782/782 [==============================] - 2s 2ms/step - loss: 0.3086 - accuracy: 0.8778\n"
          ],
          "name": "stdout"
        }
      ]
    },
    {
      "cell_type": "code",
      "metadata": {
        "colab": {
          "base_uri": "https://localhost:8080/"
        },
        "id": "Sf_UMKuoRD3r",
        "outputId": "d1503651-92fd-4acc-d6d8-efd48e3c4375"
      },
      "source": [
        "results"
      ],
      "execution_count": 30,
      "outputs": [
        {
          "output_type": "execute_result",
          "data": {
            "text/plain": [
              "[0.3086440861225128, 0.8777599930763245]"
            ]
          },
          "metadata": {
            "tags": []
          },
          "execution_count": 30
        }
      ]
    },
    {
      "cell_type": "code",
      "metadata": {
        "colab": {
          "base_uri": "https://localhost:8080/"
        },
        "id": "fggK0Km3RD7L",
        "outputId": "b5b810e1-0fd5-47e8-d190-5ede5e65cc18"
      },
      "source": [
        "model.predict(x_test)"
      ],
      "execution_count": 31,
      "outputs": [
        {
          "output_type": "execute_result",
          "data": {
            "text/plain": [
              "array([[0.22639918],\n",
              "       [0.99994814],\n",
              "       [0.9693915 ],\n",
              "       ...,\n",
              "       [0.16043784],\n",
              "       [0.13278289],\n",
              "       [0.77065957]], dtype=float32)"
            ]
          },
          "metadata": {
            "tags": []
          },
          "execution_count": 31
        }
      ]
    },
    {
      "cell_type": "code",
      "metadata": {
        "id": "BZT4sx-lRD-v"
      },
      "source": [
        ""
      ],
      "execution_count": null,
      "outputs": []
    },
    {
      "cell_type": "code",
      "metadata": {
        "id": "-o75vId8REC7"
      },
      "source": [
        ""
      ],
      "execution_count": null,
      "outputs": []
    }
  ]
}