{
  "nbformat": 4,
  "nbformat_minor": 0,
  "metadata": {
    "colab": {
      "name": "03_hw_word2vec.ipynb",
      "provenance": [],
      "include_colab_link": true
    },
    "kernelspec": {
      "name": "python3",
      "display_name": "Python 3"
    },
    "language_info": {
      "name": "python"
    }
  },
  "cells": [
    {
      "cell_type": "markdown",
      "metadata": {
        "id": "view-in-github",
        "colab_type": "text"
      },
      "source": [
        "<a href=\"https://colab.research.google.com/github/sm-lee-1/Caba_nlp/blob/main/03_hw_word2vec.ipynb\" target=\"_parent\"><img src=\"https://colab.research.google.com/assets/colab-badge.svg\" alt=\"Open In Colab\"/></a>"
      ]
    },
    {
      "cell_type": "code",
      "metadata": {
        "colab": {
          "base_uri": "https://localhost:8080/"
        },
        "id": "XNPc25KDQBvV",
        "outputId": "110c4044-0cd4-468d-ed3e-4c06aba66aaa"
      },
      "source": [
        "from gensim.models.word2vec import Word2Vec\n",
        "import gensim.downloader as api\n",
        "\n",
        "# 미리 훈련된 word2vec 모델을 다운로드 (시간이 걸립니다)\n",
        "wv = api.load('word2vec-google-news-300')\n",
        "\n"
      ],
      "execution_count": null,
      "outputs": [
        {
          "output_type": "stream",
          "text": [
            "[==================================================] 100.0% 1662.8/1662.8MB downloaded\n"
          ],
          "name": "stdout"
        }
      ]
    },
    {
      "cell_type": "markdown",
      "metadata": {
        "id": "uaS46kK_SISr"
      },
      "source": [
        "아래의 시각화를 코드로 생성해 봅시다."
      ]
    },
    {
      "cell_type": "markdown",
      "metadata": {
        "id": "3Sn_1YxAQiNq"
      },
      "source": [
        "![download.png](data:image/png;base64,iVBORw0KGgoAAAANSUhEUgAAAmEAAAI/CAYAAAA/cQ7MAAAABHNCSVQICAgIfAhkiAAAAAlwSFlzAAALEgAACxIB0t1+/AAAADh0RVh0U29mdHdhcmUAbWF0cGxvdGxpYiB2ZXJzaW9uMy4yLjIsIGh0dHA6Ly9tYXRwbG90bGliLm9yZy+WH4yJAAAgAElEQVR4nO3de5TddX3v/9fbBCEF5WJSlUgMroORS9DgQEvjqSgeo6KAF6yoR6hFWq2tdR1xQXtUltVWC7WrWFEpUqUVLxWEqFgQtUX0hxKugUAKYlqJFINKMJJoAp/fH7PJCSEhoTOZz8zk8VhrVvb+7k/29zPf2QzPfC97V2stAACMrcf0ngAAwPZIhAEAdCDCAAA6EGEAAB2IMACADkQYAEAHU3tP4JFMnz69zZ49u/c0AAC26Oqrr767tTZja8eP6wibPXt2Fi1a1HsaAABbVFX/8WjGOxwJANCBCAMA6ECEAQB0IMIAADoQYQAAHYgwAIAORBgAQAciDACgAxEGANDBiCOsqvaqqm9W1ZKquqmq3raJMYdV1cqqum7w9e6RrhcAYCIbjY8tWpfk/7TWrqmqxyW5uqq+1lpbstG4b7XWXjoK6wMAmPBGvCestXZna+2awe2fJ7k5ycyRPi8AwGQ2queEVdXsJPOSfHcTDx9aVddX1Verav/RXC8AwEQzGocjkyRVtUuS85P8SWvt3o0evibJU1trq6rqJUkuTLLPZp7nxCQnJsmsWbNGa3oAAOPKqOwJq6odMhxgn26tXbDx4621e1trqwa3L06yQ1VN39RztdbOaq0NtdaGZsyYMRrTAwAYd0bj6shK8okkN7fWPrSZMU8ajEtVHTJY709Gum5gcnv3u9+dyy67rPc0ALaJ0TgcOT/J/06yuKquGyz70ySzkqS19rEkr0ry5qpal2R1kte01toorBuYxN773vf2ngLANjMaV0de0Vqr1tqBrbVnDb4ubq19bBBgaa39XWtt/9baM1trv9la+87Ipw5sS8uWLcsznvGMHH/88Xn605+e173udbnssssyf/787LPPPvne976X733vezn00EMzb968/NZv/VaWLl2aJLnvvvvy6le/Ovvtt19e/vKX5zd+4zeyaNGiJMmb3/zmDA0NZf/998973vOeJMmiRYvyrGc9K8961rMyd+7cDHac5/jjj88XvvCFJMns2bPznve8JwcddFDmzp2bW265JUnyi1/8Im984xtzyCGHZN68ebnooovGelMB/LeM2on5wORz22235Z//+Z9zzjnn5OCDD855552XK664IgsXLsxf/MVf5Nxzz823vvWtTJ06NZdddln+9E//NOeff37OPPPM7L777lmyZEluvPHGPOtZz1r/nO9///uzxx575P7778/hhx+eG264IUNDQ7nuuuEd6SeddFJe9KIXbXI+06dPzzXXXJMzzzwzp59+es4+++y8//3vz/Of//ycc845ueeee3LIIYfkBS94QXbeeecx2UYA/10iDNisvffeO3Pnzk2S7L///jn88MNTVZk7d26WLVuWlStX5rjjjsutt96aqsratWuTJFdccUXe9rbhD8844IADcuCBB65/zs9//vM566yzsm7dutx5551ZsmTJ+sc/97nP5Zprrsmll166yfm84hWvSJI8+9nPzgUXDF8DdOmll2bhwoU5/fTTkyRr1qzJf/7nf2bffffdBlsEYPSIMGC9C69dntMuWZof3bM6e7SV+WWbsv6xxzzmMdlxxx3X3163bl3e9a535XnPe16++MUvZtmyZTnssMMe8fl/8IMf5PTTT89VV12V3XffPccff3zWrFmTJLnxxhtz6qmn5vLLL8+UKVM2+fcfXP+UKVOybt26JElrLeeff37mzJkz0m8fYEz5AG8gyXCAnXLB4iy/Z3VakrvuXZO77l2TC69dvtm/s3LlysycOfwBGZ/85CfXL58/f34+//nPJ0mWLFmSxYsXJ0nuvffe7Lzzztl1111z11135atf/WqS5J577smxxx6bc889N4/2rWkWLFiQD3/4w3nwWp9rr732Uf19gF5EGJAkOe2SpVm99v6HLGut5bRLlm7277zzne/MKaecknnz5q3fM5Ukb3nLW7JixYrst99++b//9/9m//33z6677ppnPvOZmTdvXp7xjGfkta99bebPn58kueiii/If//EfedOb3rT+BP2t9a53vStr167NgQcemP333z/vete7HuV3DtBHjed3ihgaGmoPXlEFbFt7n/yVbOq3QSX5wQeOeFTPdf/992ft2rXZaaed8v3vfz8veMELsnTp0jz2sY8dlbkCjEdVdXVrbWhrxzsnDEiS7LnbtCy/Z/Umlz9a9913X573vOdl7dq1aa3lzDPPFGAAGxFhQJLkpAVzcsoFix9ySHLaDlNy0oJHf8L74x73uNiLDfDIRBiQJDl63vAJ9g9eHbnnbtNy0oI565cDMLpEGLDe0fNmii6AMeLqSACADkQYAEAHIgwAoAMRBgDQgQgDAOhAhAEAdCDCAAA6EGEAAB2IMACADkQYAEAHIgwAoAMRBgDQgQgDAOhAhAEAdCDCAAA6EGEAAB2IMACADkQYAEAHIgwAoAMRBgDQgQgDAOhAhAEAdCDCAAA6EGEAAB2IMACADkQYAEAHIgwAoAMRBgDQgQgDAOhAhAEAdCDCAAA6EGEAAB2IMACADkQYAEAHIgwAoAMRBgDQgQgDAOhAhAEAdCDCAAA6EGEAAB2IMACADkQYAEAHIgwAoAMRBgDQgQgDAOhAhAEAdDDiCKuqvarqm1W1pKpuqqq3bWJMVdUZVXVbVd1QVQeNdL0AABPZ1FF4jnVJ/k9r7ZqqelySq6vqa621JRuMeXGSfQZfv5Hko4M/AQC2SyPeE9Zau7O1ds3g9s+T3Jxk5kbDjkpybht2ZZLdqurJI103AMBENarnhFXV7CTzknx3o4dmJvnhBvfvyMNDDQBguzFqEVZVuyQ5P8mftNbuHcHznFhVi6pq0YoVK0ZregAA48qoRFhV7ZDhAPt0a+2CTQxZnmSvDe4/ZbDsYVprZ7XWhlprQzNmzBiN6QEAjDujcXVkJflEkptbax/azLCFSd4wuEryN5OsbK3dOdJ1AwBMVKNxdeT8JP87yeKqum6w7E+TzEqS1trHklyc5CVJbktyX5LfHYX1AgBMWCOOsNbaFUlqC2Nakj8c6boAACYL75gPANCBCAMA6ECEAQB0IMIAADoQYQAAHYgwAIAORBgAQAciDACgAxEGANCBCAMA6ECEAQB0IMIAADoQYQAAHYgwAIAORBgAQAciDACgAxEGANCBCAMA6ECEAQB0IMIAADoQYQAAHYgwAIAORBgAQAciDACgAxEGANCBCAMA6ECEAQB0IMIAADoQYQAAHYgwAIAORBgAQAciDACgAxEGANCBCAMA6ECEAQB0IMIAADoQYQAAHYgwAIAORBgAQAciDACgAxEGANCBCAMA6ECEAQB0IMIAADoQYQAAHYgwAIAORBgAQAciDACgAxEGANCBCAMA6ECEAQB0IMIAADoQYQAAHYgwAIAORBgAQAejEmFVdU5V/biqbtzM44dV1cqqum7w9e7RWC8AwEQ1dZSe55NJ/i7JuY8w5luttZeO0voAACa0UdkT1lq7PMlPR+O5AAC2B2N5TtihVXV9VX21qvYfw/UCAIw7o3U4ckuuSfLU1tqqqnpJkguT7LOpgVV1YpITk2TWrFljND0AgLE1JnvCWmv3ttZWDW5fnGSHqpq+mbFntdaGWmtDM2bMGIvpAQCMuTGJsKp6UlXV4PYhg/X+ZCzWDQAwHo3K4ciq+kySw5JMr6o7krwnyQ5J0lr7WJJXJXlzVa1LsjrJa1prbTTWDQAwEY1KhLXWjt3C43+X4bewAAAg3jEfAKALEQYA0IEIAwDoQIQBAHQgwgAAOhBhAAAdiDAAgA5EGABAByIMAKADEQYA0IEIAwDoQIQBAHQgwgAAOhBhAAAdiDAAgA5EGABAByIMAKADEQYA0IEIAwDoQIQBAHQgwgAAOhBhAAAdiDAAgA5EGABAByIMAKADEQYA0IEIAwDoQIQBAHQgwgAAOhBhMEktW7YsBxxwwIifZ/bs2bn77rtHYUYAbEiEAQB0IMJgElu3bl1e97rXZd99982rXvWq3Hffffn617+eefPmZe7cuXnjG9+YX/7yl0my2eUPWr16dV784hfn7//+73t8KwCTjgiDSWzp0qV5y1vekptvvjmPf/zj86EPfSjHH398Pve5z2Xx4sVZt25dPvrRj2bNmjWbXP6gVatW5WUve1mOPfbYvOlNb+r4HQFMHiIMJrG99tor8+fPT5K8/vWvz9e//vXsvffeefrTn54kOe6443L55Zdn6dKlm1z+oKOOOiq/+7u/mze84Q1j/00ATFJTe08AGD0XXrs8p12yND+6Z3X2aCuzZu0DD3l8t912y09+8pNH/bzz58/Pv/zLv+S1r31tqmq0pguwXbMnDCaJC69dnlMuWJzl96xOS3LXvWuy4r+W5wOfXJgkOe+88zI0NJRly5bltttuS5L84z/+Y5773Odmzpw5m1z+oPe+973Zfffd84d/+Idj/n0BTFYiDCaJ0y5ZmtVr73/Isql7PCV//bdnZN99983PfvazvP3tb88//MM/5JhjjsncuXPzmMc8Jn/wB3+QnXbaaZPLN/S3f/u3Wb16dd75zneO5bcFMGlVa633HDZraGioLVq0qPc0YELY++SvZFP/NVeSH3zgiLGeDsB2p6qubq0Nbe14e8Jgkthzt2mPajkAfYkwmCROWjAn03aY8pBl03aYkpMWzOk0IwAeiasjYZI4et7MJFl/deSeu03LSQvmrF8OwPgiwmASOXreTNEFMEE4HAkA0IEIAwDoQIQBAHQgwgAAOhBhAAAdiDAAgA5EGABAByIMAKADEQYA0IEIAwDoQIQBAHQgwgAAOhBhAAAdiDAAgA5GJcKq6pyq+nFV3biZx6uqzqiq26rqhqo6aDTWCwAwUY3WnrBPJnnRIzz+4iT7DL5OTPLRUVovAMCENCoR1lq7PMlPH2HIUUnObcOuTLJbVT15NNYNADARjdU5YTOT/HCD+3cMlgEAbJfG3Yn5VXViVS2qqkUrVqzoPR0AgG1irCJseZK9Nrj/lMGyh2mtndVaG2qtDc2YMWNMJgcAMNbGKsIWJnnD4CrJ30yysrV25xitGwBg3Jk6Gk9SVZ9JcliS6VV1R5L3JNkhSVprH0tycZKXJLktyX1Jfnc01gsAMFGNSoS11o7dwuMtyR+OxroAACaDcXdiPgDA9kCEAQB0IMIAADoQYQAAHYgwAIAORBgAQAciDACgAxEGANCBCAMA6ECEAQB0IMIAADoQYQAAHYgwAIAORBgAQAciDACgAxEGANCBCAMA6ECEAQB0IMIAADoQYQAAHYgwAIAORBgAQAciDACgAxEGANCBCAMA6ECEAQB0IMIAADoQYQAAHYgwAIAORBgAQAciDACgAxEGANCBCAMA6ECEAQB0IMIAADoQYQAAHYgwAIAORBgAQAciDACgAxEGANCBCAMA6ECEAQB0IMIAADoQYQAAHYgwAIAORBgAQAciDACgAxEGANCBCAMA6ECEAQB0IMIAADoQYQAAHYgwAIAORBgAQAciDACgg1GJsKp6UVUtrarbqurkTTx+fFWtqKrrBl8njMZ6AQAmqqkjfYKqmpLkI0n+V5I7klxVVQtba0s2Gvq51tpbR7o+AIDJYDT2hB2S5LbW2u2ttV8l+WySo0bheQEAJq3RiLCZSX64wf07Bss29sqquqGqvlBVe43CegEAJqyxOjH/S0lmt9YOTPK1JJ/a3MCqOrGqFlXVohUrVozR9AAAxtZoRNjyJBvu2XrKYNl6rbWftNZ+Obh7dpJnb+7JWmtntdaGWmtDM2bMGIXpAQCMP6MRYVcl2aeq9q6qxyZ5TZKFGw6oqidvcPfIJDePwnoBACasEV8d2VpbV1VvTXJJkilJzmmt3VRV702yqLW2MMkfV9WRSdYl+WmS40e6XgCAiaxaa73nsFlDQ0Nt0aJFvacBALBFVXV1a21oa8d7x3wAgA5EGABAByIMAKADEQYA0IEIAwDoQIQBAHQgwgAAOhBhAAAdiDAAgA5EGABAByIMAKADEQYA0IEIAwDoQIQBAHQgwgAAOhBhAAAdiDAAgA5EGABAByIMAKADEQYA0IEIAwDoQIQBAHQgwgAAOhBhAAAdiDAAgA5EGABAByIMAKADEQYA0IEIAwDoQIQBAHQgwgAAOhBhAAAdiDAAgA5EGABAByIMAKADEQYA0IEIAwDoQIQBAHQgwgAAOhBhAAAdiDAAgA5EGABAByIMAKADEQYA0IEIAwDoQIQBAHQgwgAAOhBhAAAdiDAAgA5EGABAByIMAKADEQYA0IEIAwDoQIQBAHQgwgAAOhiVCKuqF1XV0qq6rapO3sTjO1bV5waPf7eqZo/GegEAJqoRR1hVTUnykSQvTrJfkmOrar+Nhv1ekp+11v5Hkr9J8sGRrhcAYCIbjT1hhyS5rbV2e2vtV0k+m+SojcYcleRTg9tfSHJ4VdUorBsAYEIajQibmeSHG9y/Y7Bsk2Naa+uSrEzyhFFYNwDAhDTuTsyvqhOralFVLVqxYkXv6QAAbBOjEWHLk+y1wf2nDJZtckxVTU2ya5KfbOrJWmtntdaGWmtDM2bMGIXpAQCMP6MRYVcl2aeq9q6qxyZ5TZKFG41ZmOS4we1XJflGa62NwroBACakqSN9gtbauqp6a5JLkkxJck5r7aaqem+SRa21hUk+keQfq+q2JD/NcKgBAGy3RhxhSdJauzjJxRste/cGt9ckOWY01gUAMBmMuxPzAQC2ByIMAKADEQYA0IEIAwDoQIQBAHQgwgAAOhBhAAAdiDAAgA5EGABAByIMAKADEQYA0IEIAwDoQIQBAHQgwgAAOhBhAAAdiDAAgA5EGABAByIMAKADEQYA0IEIAwDoQIQBAHQgwgAAOhBhAAAdiDAAgA5EGABAByIMAKADEQYA0IEIAwDoQIQBAHQgwgAAOhBhAAAdiDAAgA5EGABAByIMAKADEQYA0IEIAwDoQIQBAHQgwgAAOhBhAAAdiDAAgA5EGABAByIMAKADEQYA0IEIAwDoQIQBAHQgwgAAOhBhAAAdiDAAgA5EGABAByIMAKADEQYA0IEIAwDoQIQBAHQgwgAAOhBhAAAdiDAAgA5GFGFVtUdVfa2qbh38uftmxt1fVdcNvhaOZJ0AAJPBSPeEnZzk6621fZJ8fXB/U1a31p41+DpyhOsEAJjwRhphRyX51OD2p5IcPcLnAwDYLow0wp7YWrtzcPu/kjxxM+N2qqpFVXVlVQk1AGC7N3VLA6rqsiRP2sRDf7bhndZaq6q2mad5amtteVU9Lck3qmpxa+37m1nfiUlOTJJZs2ZtaXoAABPSFiOstfaCzT1WVXdV1ZNba3dW1ZOT/Hgzz7F88OftVfWvSeYl2WSEtdbOSnJWkgwNDW0u6gAAJrSRHo5cmOS4we3jkly08YCq2r2qdhzcnp5kfpIlI1wvAMCENtII+0CS/1VVtyZ5weB+qmqoqs4ejNk3yaKquj7JN5N8oLUmwgCA7doWD0c+ktbaT5Icvonli5KcMLj9nSRzR7IeAIDJxjvmAwB0IMIAgO3C+9///jz96U/Pc57znBx77LE5/fTTc9hhh2XRokVJkrvvvjuzZ89Oktx///056aSTcvDBB+fAAw/Mxz/+8fXPc9ppp61f/p73vCdJsmzZsiTZv6r+vqpuqqpLq2raI81nRIcjAQAmgquvvjqf/exnc91112XdunU56KCD8uxnP3uz4z/xiU9k1113zVVXXZVf/vKXmT9/fl74whfm1ltvza233prvfe97aa3lyCOPzOWXX/7g22rtlOQjrbU3VdXnk7wyyT9tbh0iDACY9L71rW/l5S9/eX7t134tSXLkkY/8KYqXXnppbrjhhnzhC19IkqxcuTK33nprLr300lx66aWZN29ekmTVqlW59dZbH4ywX7bWrhs8xdVJZj/SOkQYADApXXjt8px2ydL86J7VyY235uA9d3jYmKlTp+aBBx5IkqxZs2b98tZaPvzhD2fBggUPGX/JJZfklFNOye///u8/ZPngcOSG7296f5JHPBzpnDAAYNK58NrlOeWCxVl+z+q0JGumPz0LL7oon/v/bsvPf/7zfOlLX0qSzJ49O1dffXWSrN/rlSQLFizIRz/60axduzZJ8u///u/5xS9+kQULFuScc87JqlWrkiTLly/Pj3+8yfeq3yJ7wgCASee0S5Zm9dr719/f8Un/I9Pm/M8c/7LD8uxnzM7BBx+cJHnHO96RV7/61TnrrLNyxBFHrB9/wgknZNmyZTnooIPSWsuMGTNy4YUX5oUvfGFuvvnmHHrooUmSXXbZJf/0T/+UKVOmPOo5Vmvj95OBhoaG2oNXLAAAbK29T/5KNlU4leQHHzgip556anbZZZe84x3vGLV1VtXVrbWhrR3vcCQAMOnsudumT8fa3PIeHI4EACadkxbMySkXLH7IIclpO0zJSQvmJElOPfXUTjP7f+wJAwDGvWXLluWAAw54yLJFixblj//4jzc5/uh5M/OXr5ibmbtNSyWZudu0/OUr5uboeTPHYLZbx54wAGBCGhoaytDQ5k/BOnrezHEVXRuzJwwAmFBuv/32zJs3L6eddlpe+tKXJhk+vPjGN74xhx12WJ72tKfljDPOWD/+z//8zzNnzpyHfFzReGBPGAAwYSxdujSvec1r8slPfjI/+9nP8m//9m/rH7vlllvyzW9+Mz//+c8zZ86cvPnNb851112X888/P9dff33Wrl27xY8rGkv2hAEAE8KKFSty1FFH5dOf/nSe+cxnPuzxI444IjvuuGOmT5+eX//1X89dd92Vb3/72znqqKOy00475XGPe1xe9rKXdZj5ptkTBgCMSxt+7NAebWWm7LRzZs2alSuuuCL77bffw8bvuOOO629PmTIl69atG8vpPmr2hAEA487GHzt0171r8pPVD+SNp34k5557bs4777ytep758+fnS1/6UtasWZNVq1bly1/+8rad+KMgwgCAcWfjjx1KBh+qffkP8+Uvfzl/8zd/k3vvvXeLz3PwwQfnyCOPzIEHHpgXv/jFmTt3bnbddddtNe1HxccWAQDjzpY+dujRWLVqVXbZZZfcd999+e3f/u2cddZZOeigg0Zlng+Z26P82CLnhAEA486eu03L8ntWb3L5o3XiiSdmyZIlWbNmTY477rhtEmD/HSIMABh3tvSxQ4/G1p4/NtZEGAAw7jz4TvcPXh25527TctKCOeP6HfAfLREGAIxL4/1jh0bK1ZEAAB2IMACADkQYAEAHIgwAoAMRBgDQgQgDAOhAhAEAdCDCAAA6EGEAAB2IMACADkQYAEAHIgwAoAMRBgDQgQgDAOhAhAEAdCDCAAA6EGEAAB2IMACADkQYAEAHIoz/lnXr1vWeAgBMaFN7T4D+zj333Jx++umpqhx44IF59atfnfe973351a9+lSc84Qn59Kc/nSc+8Yk59dRT8/3vfz+33357Zs2alc985jO9pw4AE5YI287ddNNNed/73pfvfOc7mT59en7605+mqnLllVemqnL22Wfnr/7qr/LXf/3XSZIlS5bkiiuuyLRp0zrPHAAmNhG2nfvGN76RY445JtOnT0+S7LHHHlm8eHF+53d+J3feeWd+9atfZe+9914//sgjjxRgADAKnBO2nbrw2uWZ/4Fv5NSFN+VT31mWC69dvv6xP/qjP8pb3/rWLF68OB//+MezZs2a9Y/tvPPOPaYLAJOOCNsOXXjt8pxyweIsv2d1dpx1YO66/l/zzn/6di68dnl++tOfZuXKlZk5c2aS5FOf+lTn2QLA5ORw5HbotEuWZvXa+5Mkj53x1Ox66O9k2bkn5XXnTc0xC/5nTj311BxzzDHZfffd8/znPz8/+MEPOs8YACafaq31nsNmDQ0NtUWLFvWexqSz98lfyaZ+6pXkBx84YqynAwCTQlVd3Vob2trxDkduh/bcbdMn1m9uOQAw+kTYduikBXMybYcpD1k2bYcpOWnBnE4zAoDtj3PCtkNHzxs+6f60S5bmR/eszp67TctJC+asXw4AbHsibDt19LyZogsAOnI4EgCggxFFWFUdU1U3VdUDVbXZqwGq6kVVtbSqbquqk0eyTgCAyWCke8JuTPKKJJdvbkBVTUnykSQvTrJfkmOrar8RrhcAYEIb0TlhrbWbk6SqHmnYIUlua63dPhj72SRHJVkyknUDAExkY3FO2MwkP9zg/h2DZQAA260t7gmrqsuSPGkTD/1Za+2i0Z5QVZ2Y5MQkmTVr1mg/PQDAuLDFCGutvWCE61ieZK8N7j9lsGxz6zsryVnJ8McWjXDdAADj0lgcjrwqyT5VtXdVPTbJa5IsHIP1AgCMWyN9i4qXV9UdSQ5N8pWqumSwfM+qujhJWmvrkrw1ySVJbk7y+dbaTSObNgDAxDbSqyO/mOSLm1j+oyQv2eD+xUkuHsm6AAAmE++YDwDQgQgDAOhAhAEAdCDCAAA6EGEAAB2IMACADkQYAEAHIgwAoAMRBgDQgQgDAOhAhAEAdCDCAAA6EGEAAB2IMACADkQYAEAHIgwAoAMRBgDQgQgDAOhAhAEAdCDCAAA6EGEAAB2IMACADkQYAEAHIgwAoAMRBgDQgQgDAOhAhAEAdCDCAAA6EGEAAB2IMACADkQYAEAHIgwAoAMRBgDQgQgDAOhAhAEAdCDCAAA6EGEAAB2IMACADkQYAEAHIgwAoAMRlmTZsmU54IADHrb8hBNOyJIlS5Iku+yyy1hPCwCYxKb2nsB4dvbZZ/eeAgAwSdkTNrBu3bq87nWvy7777ptXvepVue+++3LYYYdl0aJFDxl3991359BDD81XvvKVrFixIq985Stz8MEH5+CDD863v/3tTrMHACYaETawdOnSvOUtb8nNN9+cxz/+8TnzzDMfNuauu+7KEUcckfe+97054ogj8ra3vS1vf/vbc9VVV+X888/PCSec0GHmAMBE5HDkwF577ZX584jUO6gAAAirSURBVOcnSV7/+tfnjDPOeMjja9euzeGHH56PfOQjee5zn5skueyyy9afM5Yk9957b1atWuX8MQBgi7bbCLvw2uU57ZKl+dE9q7NHW5k1ax94yONV9ZD7U6dOzbOf/exccskl6yPsgQceyJVXXpmddtppzOYNAEwO2+XhyAuvXZ5TLlic5fesTkty171rsuK/lucDn1yYJDnvvPPynOc85yF/p6pyzjnn5JZbbskHP/jBJMkLX/jCfPjDH14/5rrrrhuz7wEAmNi2ywg77ZKlWb32/ocsm7rHU/LXf3tG9t133/zsZz/Lm9/85of9vSlTpuQzn/lMvvGNb+TMM8/MGWeckUWLFuXAAw/Mfvvtl4997GNj9S0AABNctdZ6z2GzhoaG2sZXJ46GvU/+Sjb1XVeSH3zgiFFfHwAw+VXV1a21oa0dv13uCdtzt2mPajkAwGjbLiPspAVzMm2HKQ9ZNm2HKTlpwZxOMwIAtjfb5dWRR8+bmSTrr47cc7dpOWnBnPXLAQC2te0ywpLhEBNdAEAv2+XhSACA3kQYAEAHIgwAoIMRRVhVHVNVN1XVA1W12ffFqKplVbW4qq6rqtF/4y8AgAlmpCfm35jkFUk+vhVjn9dau3uE6wMAmBRGFGGttZuTh3/YNQAAj2yszglrSS6tqqur6sQxWicAwLi1xT1hVXVZkidt4qE/a61dtJXreU5rbXlV/XqSr1XVLa21yzezvhOTnJgks2bN2sqnBwCYWLYYYa21F4x0Ja215YM/f1xVX0xySJJNRlhr7awkZyXDH+A90nUDAIxH2/xwZFXtXFWPe/B2khdm+IR+AIDt1kjfouLlVXVHkkOTfKWqLhks37OqLh4Me2KSK6rq+iTfS/KV1tq/jGS9AAAT3Uivjvxiki9uYvmPkrxkcPv2JM8cyXoAACYb75gPANCBCAMA6ECEAQB0IMIAADoQYQAAHYgwAIAORBgAQAciDACgg2pt/H48Y1WtSPKLJHf3nss4MD22Q2I7PMh2GGY7DLMdhtkOw2yHYT22w1NbazO2dvC4jrAkqapFrbWh3vPozXYYZjsMsx2G2Q7DbIdhtsMw22HYRNgODkcCAHQgwgAAOpgIEXZW7wmME7bDMNthmO0wzHYYZjsMsx2G2Q7Dxv12GPfnhAEATEYTYU8YAMCkM+4irKpOq6pbquqGqvpiVe22mXEvqqqlVXVbVZ081vPc1qrqmKq6qaoeqKrNXt1RVcuqanFVXVdVi8ZyjmPhUWyHyf562KOqvlZVtw7+3H0z4+4fvBauq6qFYz3PbWVLP9+q2rGqPjd4/LtVNXvsZ7ntbcV2OL6qVmzwGjihxzy3pao6p6p+XFU3bubxqqozBtvohqo6aKznOBa2YjscVlUrN3gtvHus5zgWqmqvqvpmVS0Z/L/ibZsYM35fE621cfWV5IVJpg5ufzDJBzcxZkqS7yd5WpLHJrk+yX695z7K22HfJHOS/GuSoUcYtyzJ9N7z7bkdtpPXw18lOXlw++RN/XcxeGxV77lug+99iz/fJG9J8rHB7dck+VzveXfaDscn+bvec93G2+G3kxyU5MbNPP6SJF9NUkl+M8l3e8+503Y4LMmXe89zDLbDk5McNLj9uCT/von/Lsbta2Lc7QlrrV3aWls3uHtlkqdsYtghSW5rrd3eWvtVks8mOWqs5jgWWms3t9aW9p5Hb1u5HSb96yHD38+nBrc/leTojnMZa1vz891w+3whyeFVVWM4x7GwPbzOt6i1dnmSnz7CkKOSnNuGXZlkt6p68tjMbuxsxXbYLrTW7mytXTO4/fMkNyeZudGwcfuaGHcRtpE3ZrheNzYzyQ83uH9HHr7RtxctyaVVdXVVndh7Mp1sD6+HJ7bW7hzc/q8kT9zMuJ2qalFVXVlVkyXUtubnu37M4B9xK5M8YUxmN3a29nX+ysEhly9U1V5jM7VxZXv4fbC1Dq2q66vqq1W1f+/JbGuD0xDmJfnuRg+N29fE1B4rrarLkjxpEw/9WWvtosGYP0uyLsmnx3JuY2lrtsNWeE5rbXlV/XqSr1XVLYN/IU0Yo7QdJrxH2g4b3mmttara3GXNTx28Hp6W5BtVtbi19v3Rnivj1peSfKa19suq+v0M7x18fuc50cc1Gf59sKqqXpLkwiT7dJ7TNlNVuyQ5P8mftNbu7T2frdUlwlprL3ikx6vq+CQvTXJ4GxzQ3cjyJBv+C+8pg2UTypa2w1Y+x/LBnz+uqi9m+JDFhIqwUdgOk/71UFV3VdWTW2t3Dnaj/3gzz/Hg6+H2qvrXDP+rcKJH2Nb8fB8cc0dVTU2ya5KfjM30xswWt0NrbcPv+ewMn0u4vZkUvw9GasMQaa1dXFVnVtX01tqk+0zJqtohwwH26dbaBZsYMm5fE+PucGRVvSjJO5Mc2Vq7bzPDrkqyT1XtXVWPzfCJuJPmSrCtVVU7V9XjHryd4YsaNnmlzCS3PbweFiY5bnD7uCQP20NYVbtX1Y6D29OTzE+yZMxmuO1szc93w+3zqiTf2Mw/4CayLW6Hjc5zOTLD58dsbxYmecPgirjfTLJyg0P5242qetKD50VW1SEZ/v/9ZPuHSQbf4yeS3Nxa+9Bmho3f10TvKwM2/kpyW4aP3V43+Hrwiqc9k1y8wbiXZPgqiO9n+LBV97mP8nZ4eYaPW/8yyV1JLtl4O2T4KqnrB183ba/bYTt5PTwhydeT3JrksiR7DJYPJTl7cPu3kiwevB4WJ/m93vMexe//YT/fJO/N8D/WkmSnJP88+P3xvSRP6z3nTtvhLwe/C65P8s0kz+g9522wDT6T5M4kawe/G34vyR8k+YPB45XkI4NttDiPcHX5RP7aiu3w1g1eC1cm+a3ec95G2+E5GT43+oYNuuElE+U14R3zAQA6GHeHIwEAtgciDACgAxEGANCBCAMA6ECEAQB0IMIAADoQYQAAHYgwAIAO/n8spo/CvezP2gAAAABJRU5ErkJggg==)"
      ]
    },
    {
      "cell_type": "code",
      "metadata": {
        "colab": {
          "base_uri": "https://localhost:8080/"
        },
        "id": "BnknVXYNSazb",
        "outputId": "01cba821-653f-4e14-ea01-74c60d6061c1"
      },
      "source": [
        "# 단어들에 대한 word2vec을 구한다.\n",
        "words = [\"car\",\"bike\",\"book\",\"magazine\",\"queen\",\"king\"]\n",
        "word2vecs = [wv[i] for i in words]\n",
        " \n",
        "\n",
        " \n",
        "# 단어간 유사도 확인\n",
        "print(f\"bike and car : {wv.similarity(w1='bike', w2='car')}\")\n",
        "print(f\"bike and magazine : {wv.similarity(w1='bike', w2='magazine')}\")\n"
      ],
      "execution_count": null,
      "outputs": [
        {
          "output_type": "stream",
          "text": [
            "bike and car : 0.5854154229164124\n",
            "bike and magazine : 0.031125178560614586\n"
          ],
          "name": "stdout"
        }
      ]
    },
    {
      "cell_type": "markdown",
      "metadata": {
        "id": "BT-zvtESVPo2"
      },
      "source": [
        ""
      ]
    },
    {
      "cell_type": "markdown",
      "metadata": {
        "id": "iOwLHsjOTc79"
      },
      "source": [
        "단어 벡터는 몇차원인가요?"
      ]
    },
    {
      "cell_type": "code",
      "metadata": {
        "id": "fPCT4N9jVROy"
      },
      "source": [
        "# (1) 다운받은 모델의 단어 벡터가 몇 차원인지 보이세요\n",
        "\n"
      ],
      "execution_count": null,
      "outputs": []
    },
    {
      "cell_type": "markdown",
      "metadata": {
        "id": "XpX8PMf1VfKa"
      },
      "source": [
        "단어 벡터를 시각화하기 위해 2차원으로 축소합니다."
      ]
    },
    {
      "cell_type": "code",
      "metadata": {
        "id": "ldSxSOICTcpa"
      },
      "source": [
        "from sklearn.decomposition import PCA\n",
        "pca = PCA(n_components=2)\n",
        "xy = pca.fit_transform(word2vecs)\n",
        "x = xy[:,0]\n",
        "y = xy[:,1]\n",
        "\n",
        "# (2) 차원이 줄어든 것을 보이세요.\n",
        "\n"
      ],
      "execution_count": null,
      "outputs": []
    },
    {
      "cell_type": "markdown",
      "metadata": {
        "id": "Qlh7GsofUmOB"
      },
      "source": [
        "2 차원으로 축소된 단어 벡터들을 2차원 평면에 scatter plot으로 나타내 보세요."
      ]
    },
    {
      "cell_type": "code",
      "metadata": {
        "colab": {
          "base_uri": "https://localhost:8080/",
          "height": 129
        },
        "id": "j7l9EwRgTFye",
        "outputId": "e5055eff-80b8-47d9-86b4-25c87d8b3381"
      },
      "source": [
        "import matplotlib.pyplot as plt\n",
        "\n",
        "plt.figure(figsize=(10,10))\n",
        "\n",
        "# (3) 아래를 완성하세요\n",
        "plt.scatter( , ,marker = 'o')\n",
        "for i, v in enumerate( ):\n",
        "  plt.annotate(v, xy=(x[i], y[i]))\n"
      ],
      "execution_count": null,
      "outputs": [
        {
          "output_type": "error",
          "ename": "SyntaxError",
          "evalue": "ignored",
          "traceback": [
            "\u001b[0;36m  File \u001b[0;32m\"<ipython-input-7-ed7f3e11faaa>\"\u001b[0;36m, line \u001b[0;32m7\u001b[0m\n\u001b[0;31m    plt.scatter( , ,marker = 'o')\u001b[0m\n\u001b[0m                 ^\u001b[0m\n\u001b[0;31mSyntaxError\u001b[0m\u001b[0;31m:\u001b[0m invalid syntax\n"
          ]
        }
      ]
    }
  ]
}